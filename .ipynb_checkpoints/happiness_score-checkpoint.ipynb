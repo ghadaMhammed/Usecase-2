{
 "cells": [
  {
   "cell_type": "code",
   "execution_count": 1298,
   "id": "e7c81317-fcbf-469b-bbfd-69c7b0c0a7f7",
   "metadata": {},
   "outputs": [
    {
     "name": "stdout",
     "output_type": "stream",
     "text": [
      "Requirement already satisfied: kagglehub in c:\\users\\ghada\\anaconda3\\lib\\site-packages (0.3.2)\n",
      "Requirement already satisfied: packaging in c:\\users\\ghada\\anaconda3\\lib\\site-packages (from kagglehub) (23.2)\n",
      "Requirement already satisfied: requests in c:\\users\\ghada\\anaconda3\\lib\\site-packages (from kagglehub) (2.32.2)\n",
      "Requirement already satisfied: tqdm in c:\\users\\ghada\\anaconda3\\lib\\site-packages (from kagglehub) (4.66.4)\n",
      "Requirement already satisfied: charset-normalizer<4,>=2 in c:\\users\\ghada\\anaconda3\\lib\\site-packages (from requests->kagglehub) (2.0.4)\n",
      "Requirement already satisfied: idna<4,>=2.5 in c:\\users\\ghada\\anaconda3\\lib\\site-packages (from requests->kagglehub) (3.7)\n",
      "Requirement already satisfied: urllib3<3,>=1.21.1 in c:\\users\\ghada\\anaconda3\\lib\\site-packages (from requests->kagglehub) (2.2.2)\n",
      "Requirement already satisfied: certifi>=2017.4.17 in c:\\users\\ghada\\anaconda3\\lib\\site-packages (from requests->kagglehub) (2024.8.30)\n",
      "Requirement already satisfied: colorama in c:\\users\\ghada\\anaconda3\\lib\\site-packages (from tqdm->kagglehub) (0.4.6)\n"
     ]
    }
   ],
   "source": [
    "!pip install kagglehub"
   ]
  },
  {
   "cell_type": "code",
   "execution_count": 1299,
   "id": "e69c4ba1-85f3-4a02-ae37-c64347a01803",
   "metadata": {},
   "outputs": [],
   "source": [
    "#Import all relevant libraries\n",
    "import kagglehub\n",
    "import numpy as np\n",
    "import pandas as pd\n",
    "import matplotlib.pyplot as plt\n",
    "import seaborn as sns\n",
    "from scipy.stats import zscore\n",
    "import os\n",
    "import warnings\n",
    "warnings.filterwarnings('ignore')\n",
    " \n",
    "## This statement allows the visuals to render within your Jupyter Notebook.\n",
    "%matplotlib inline"
   ]
  },
  {
   "cell_type": "markdown",
   "id": "e395e8bf-b530-4720-8d0f-26811e927d6e",
   "metadata": {},
   "source": [
    "## Loading the data\n",
    "We can now load the dataset into pandas using the read_csv() function. This converts the CSV file into a Pandas dataframe."
   ]
  },
  {
   "cell_type": "code",
   "execution_count": 1301,
   "id": "fc3fcfcf-0d2f-4998-9477-9c39a77f43f2",
   "metadata": {},
   "outputs": [
    {
     "name": "stdout",
     "output_type": "stream",
     "text": [
      "Warning: Looks like you're using an outdated `kagglehub` version, please consider updating (latest version: 0.3.3)\n"
     ]
    }
   ],
   "source": [
    "folder_path = kagglehub.dataset_download(\"unsdsn/world-happiness\")\n",
    "files = os.listdir(folder_path)"
   ]
  },
  {
   "cell_type": "code",
   "execution_count": 1302,
   "id": "cf4030b0-aa7f-4bd7-8e9c-c1b7f4d202d0",
   "metadata": {},
   "outputs": [],
   "source": [
    "#Read in the csv file and convert to a Pandas dataframe\n",
    "os.listdir(folder_path)\n",
    "dataframes = {}\n",
    "\n",
    "for file in files:\n",
    "    file_path = os.path.join(folder_path, file)\n",
    "    if os.path.isfile(file_path): \n",
    "        df = pd.read_csv(file_path)\n",
    "        dataframes[file] = df"
   ]
  },
  {
   "cell_type": "markdown",
   "id": "dd4a7ff2-076b-41da-aae7-99328e3b4df6",
   "metadata": {},
   "source": [
    "<h3>Load dataframes</h3>"
   ]
  },
  {
   "cell_type": "code",
   "execution_count": 1304,
   "id": "e5dc0bdd-d2fa-4d02-b7f5-77201d246448",
   "metadata": {},
   "outputs": [],
   "source": [
    "df_2015 = dataframes[list(dataframes.keys())[0]]\n",
    "df_2016 = dataframes[list(dataframes.keys())[1]]\n",
    "df_2017 = dataframes[list(dataframes.keys())[2]]\n",
    "df_2018 = dataframes[list(dataframes.keys())[3]]\n",
    "df_2019 = dataframes[list(dataframes.keys())[4]]"
   ]
  },
  {
   "cell_type": "markdown",
   "id": "ca5ed983-0f72-43eb-8168-6fafd48c562e",
   "metadata": {},
   "source": [
    "### Viewing the dataframe\n",
    "We can get a quick sense of the size of our dataset by using the shape method. This returns a tuple with the number of rows and columns in the dataset."
   ]
  },
  {
   "cell_type": "markdown",
   "id": "c451bc32-9c27-48be-8717-dc771f4c6515",
   "metadata": {},
   "source": [
    "<h3>Now we should see each year data frame:</h3>"
   ]
  },
  {
   "cell_type": "code",
   "execution_count": 1307,
   "id": "043b0307-25ae-4c51-a529-ad10c784caad",
   "metadata": {},
   "outputs": [
    {
     "data": {
      "text/html": [
       "<div>\n",
       "<style scoped>\n",
       "    .dataframe tbody tr th:only-of-type {\n",
       "        vertical-align: middle;\n",
       "    }\n",
       "\n",
       "    .dataframe tbody tr th {\n",
       "        vertical-align: top;\n",
       "    }\n",
       "\n",
       "    .dataframe thead th {\n",
       "        text-align: right;\n",
       "    }\n",
       "</style>\n",
       "<table border=\"1\" class=\"dataframe\">\n",
       "  <thead>\n",
       "    <tr style=\"text-align: right;\">\n",
       "      <th></th>\n",
       "      <th>Country</th>\n",
       "      <th>Region</th>\n",
       "      <th>Happiness Rank</th>\n",
       "      <th>Happiness Score</th>\n",
       "      <th>Standard Error</th>\n",
       "      <th>Economy (GDP per Capita)</th>\n",
       "      <th>Family</th>\n",
       "      <th>Health (Life Expectancy)</th>\n",
       "      <th>Freedom</th>\n",
       "      <th>Trust (Government Corruption)</th>\n",
       "      <th>Generosity</th>\n",
       "      <th>Dystopia Residual</th>\n",
       "    </tr>\n",
       "  </thead>\n",
       "  <tbody>\n",
       "    <tr>\n",
       "      <th>12</th>\n",
       "      <td>Austria</td>\n",
       "      <td>Western Europe</td>\n",
       "      <td>13</td>\n",
       "      <td>7.200</td>\n",
       "      <td>0.03751</td>\n",
       "      <td>1.33723</td>\n",
       "      <td>1.29704</td>\n",
       "      <td>0.89042</td>\n",
       "      <td>0.62433</td>\n",
       "      <td>0.18676</td>\n",
       "      <td>0.33088</td>\n",
       "      <td>2.53320</td>\n",
       "    </tr>\n",
       "    <tr>\n",
       "      <th>41</th>\n",
       "      <td>El Salvador</td>\n",
       "      <td>Latin America and Caribbean</td>\n",
       "      <td>42</td>\n",
       "      <td>6.130</td>\n",
       "      <td>0.05618</td>\n",
       "      <td>0.76454</td>\n",
       "      <td>1.02507</td>\n",
       "      <td>0.67737</td>\n",
       "      <td>0.40350</td>\n",
       "      <td>0.11776</td>\n",
       "      <td>0.10692</td>\n",
       "      <td>3.03500</td>\n",
       "    </tr>\n",
       "    <tr>\n",
       "      <th>38</th>\n",
       "      <td>Kuwait</td>\n",
       "      <td>Middle East and Northern Africa</td>\n",
       "      <td>39</td>\n",
       "      <td>6.295</td>\n",
       "      <td>0.04456</td>\n",
       "      <td>1.55422</td>\n",
       "      <td>1.16594</td>\n",
       "      <td>0.72492</td>\n",
       "      <td>0.55499</td>\n",
       "      <td>0.25609</td>\n",
       "      <td>0.16228</td>\n",
       "      <td>1.87634</td>\n",
       "    </tr>\n",
       "    <tr>\n",
       "      <th>55</th>\n",
       "      <td>Lithuania</td>\n",
       "      <td>Central and Eastern Europe</td>\n",
       "      <td>56</td>\n",
       "      <td>5.833</td>\n",
       "      <td>0.03843</td>\n",
       "      <td>1.14723</td>\n",
       "      <td>1.25745</td>\n",
       "      <td>0.73128</td>\n",
       "      <td>0.21342</td>\n",
       "      <td>0.01031</td>\n",
       "      <td>0.02641</td>\n",
       "      <td>2.44649</td>\n",
       "    </tr>\n",
       "    <tr>\n",
       "      <th>37</th>\n",
       "      <td>Taiwan</td>\n",
       "      <td>Eastern Asia</td>\n",
       "      <td>38</td>\n",
       "      <td>6.298</td>\n",
       "      <td>0.03868</td>\n",
       "      <td>1.29098</td>\n",
       "      <td>1.07617</td>\n",
       "      <td>0.87530</td>\n",
       "      <td>0.39740</td>\n",
       "      <td>0.08129</td>\n",
       "      <td>0.25376</td>\n",
       "      <td>2.32323</td>\n",
       "    </tr>\n",
       "  </tbody>\n",
       "</table>\n",
       "</div>"
      ],
      "text/plain": [
       "        Country                           Region  Happiness Rank  \\\n",
       "12      Austria                   Western Europe              13   \n",
       "41  El Salvador      Latin America and Caribbean              42   \n",
       "38       Kuwait  Middle East and Northern Africa              39   \n",
       "55    Lithuania       Central and Eastern Europe              56   \n",
       "37       Taiwan                     Eastern Asia              38   \n",
       "\n",
       "    Happiness Score  Standard Error  Economy (GDP per Capita)   Family  \\\n",
       "12            7.200         0.03751                   1.33723  1.29704   \n",
       "41            6.130         0.05618                   0.76454  1.02507   \n",
       "38            6.295         0.04456                   1.55422  1.16594   \n",
       "55            5.833         0.03843                   1.14723  1.25745   \n",
       "37            6.298         0.03868                   1.29098  1.07617   \n",
       "\n",
       "    Health (Life Expectancy)  Freedom  Trust (Government Corruption)  \\\n",
       "12                   0.89042  0.62433                        0.18676   \n",
       "41                   0.67737  0.40350                        0.11776   \n",
       "38                   0.72492  0.55499                        0.25609   \n",
       "55                   0.73128  0.21342                        0.01031   \n",
       "37                   0.87530  0.39740                        0.08129   \n",
       "\n",
       "    Generosity  Dystopia Residual  \n",
       "12     0.33088            2.53320  \n",
       "41     0.10692            3.03500  \n",
       "38     0.16228            1.87634  \n",
       "55     0.02641            2.44649  \n",
       "37     0.25376            2.32323  "
      ]
     },
     "execution_count": 1307,
     "metadata": {},
     "output_type": "execute_result"
    }
   ],
   "source": [
    "df_2015.sample(5)"
   ]
  },
  {
   "cell_type": "code",
   "execution_count": 1308,
   "id": "3ac9d10f-60eb-4497-9ae2-d17e0848223e",
   "metadata": {},
   "outputs": [
    {
     "data": {
      "text/html": [
       "<div>\n",
       "<style scoped>\n",
       "    .dataframe tbody tr th:only-of-type {\n",
       "        vertical-align: middle;\n",
       "    }\n",
       "\n",
       "    .dataframe tbody tr th {\n",
       "        vertical-align: top;\n",
       "    }\n",
       "\n",
       "    .dataframe thead th {\n",
       "        text-align: right;\n",
       "    }\n",
       "</style>\n",
       "<table border=\"1\" class=\"dataframe\">\n",
       "  <thead>\n",
       "    <tr style=\"text-align: right;\">\n",
       "      <th></th>\n",
       "      <th>Country</th>\n",
       "      <th>Region</th>\n",
       "      <th>Happiness Rank</th>\n",
       "      <th>Happiness Score</th>\n",
       "      <th>Lower Confidence Interval</th>\n",
       "      <th>Upper Confidence Interval</th>\n",
       "      <th>Economy (GDP per Capita)</th>\n",
       "      <th>Family</th>\n",
       "      <th>Health (Life Expectancy)</th>\n",
       "      <th>Freedom</th>\n",
       "      <th>Trust (Government Corruption)</th>\n",
       "      <th>Generosity</th>\n",
       "      <th>Dystopia Residual</th>\n",
       "    </tr>\n",
       "  </thead>\n",
       "  <tbody>\n",
       "    <tr>\n",
       "      <th>94</th>\n",
       "      <td>Macedonia</td>\n",
       "      <td>Central and Eastern Europe</td>\n",
       "      <td>95</td>\n",
       "      <td>5.121</td>\n",
       "      <td>5.017</td>\n",
       "      <td>5.225</td>\n",
       "      <td>1.01930</td>\n",
       "      <td>0.78236</td>\n",
       "      <td>0.64738</td>\n",
       "      <td>0.27668</td>\n",
       "      <td>0.07047</td>\n",
       "      <td>0.23507</td>\n",
       "      <td>2.08947</td>\n",
       "    </tr>\n",
       "    <tr>\n",
       "      <th>0</th>\n",
       "      <td>Denmark</td>\n",
       "      <td>Western Europe</td>\n",
       "      <td>1</td>\n",
       "      <td>7.526</td>\n",
       "      <td>7.460</td>\n",
       "      <td>7.592</td>\n",
       "      <td>1.44178</td>\n",
       "      <td>1.16374</td>\n",
       "      <td>0.79504</td>\n",
       "      <td>0.57941</td>\n",
       "      <td>0.44453</td>\n",
       "      <td>0.36171</td>\n",
       "      <td>2.73939</td>\n",
       "    </tr>\n",
       "    <tr>\n",
       "      <th>27</th>\n",
       "      <td>United Arab Emirates</td>\n",
       "      <td>Middle East and Northern Africa</td>\n",
       "      <td>28</td>\n",
       "      <td>6.573</td>\n",
       "      <td>6.494</td>\n",
       "      <td>6.652</td>\n",
       "      <td>1.57352</td>\n",
       "      <td>0.87114</td>\n",
       "      <td>0.72993</td>\n",
       "      <td>0.56215</td>\n",
       "      <td>0.35561</td>\n",
       "      <td>0.26591</td>\n",
       "      <td>2.21507</td>\n",
       "    </tr>\n",
       "    <tr>\n",
       "      <th>126</th>\n",
       "      <td>Congo (Brazzaville)</td>\n",
       "      <td>Sub-Saharan Africa</td>\n",
       "      <td>127</td>\n",
       "      <td>4.236</td>\n",
       "      <td>4.107</td>\n",
       "      <td>4.365</td>\n",
       "      <td>0.77109</td>\n",
       "      <td>0.47799</td>\n",
       "      <td>0.28212</td>\n",
       "      <td>0.37938</td>\n",
       "      <td>0.09753</td>\n",
       "      <td>0.12077</td>\n",
       "      <td>2.10681</td>\n",
       "    </tr>\n",
       "    <tr>\n",
       "      <th>66</th>\n",
       "      <td>Libya</td>\n",
       "      <td>Middle East and Northern Africa</td>\n",
       "      <td>67</td>\n",
       "      <td>5.615</td>\n",
       "      <td>5.406</td>\n",
       "      <td>5.824</td>\n",
       "      <td>1.06688</td>\n",
       "      <td>0.95076</td>\n",
       "      <td>0.52304</td>\n",
       "      <td>0.40672</td>\n",
       "      <td>0.10339</td>\n",
       "      <td>0.17087</td>\n",
       "      <td>2.39374</td>\n",
       "    </tr>\n",
       "  </tbody>\n",
       "</table>\n",
       "</div>"
      ],
      "text/plain": [
       "                  Country                           Region  Happiness Rank  \\\n",
       "94              Macedonia       Central and Eastern Europe              95   \n",
       "0                 Denmark                   Western Europe               1   \n",
       "27   United Arab Emirates  Middle East and Northern Africa              28   \n",
       "126   Congo (Brazzaville)               Sub-Saharan Africa             127   \n",
       "66                  Libya  Middle East and Northern Africa              67   \n",
       "\n",
       "     Happiness Score  Lower Confidence Interval  Upper Confidence Interval  \\\n",
       "94             5.121                      5.017                      5.225   \n",
       "0              7.526                      7.460                      7.592   \n",
       "27             6.573                      6.494                      6.652   \n",
       "126            4.236                      4.107                      4.365   \n",
       "66             5.615                      5.406                      5.824   \n",
       "\n",
       "     Economy (GDP per Capita)   Family  Health (Life Expectancy)  Freedom  \\\n",
       "94                    1.01930  0.78236                   0.64738  0.27668   \n",
       "0                     1.44178  1.16374                   0.79504  0.57941   \n",
       "27                    1.57352  0.87114                   0.72993  0.56215   \n",
       "126                   0.77109  0.47799                   0.28212  0.37938   \n",
       "66                    1.06688  0.95076                   0.52304  0.40672   \n",
       "\n",
       "     Trust (Government Corruption)  Generosity  Dystopia Residual  \n",
       "94                         0.07047     0.23507            2.08947  \n",
       "0                          0.44453     0.36171            2.73939  \n",
       "27                         0.35561     0.26591            2.21507  \n",
       "126                        0.09753     0.12077            2.10681  \n",
       "66                         0.10339     0.17087            2.39374  "
      ]
     },
     "execution_count": 1308,
     "metadata": {},
     "output_type": "execute_result"
    }
   ],
   "source": [
    "df_2016.sample(5)"
   ]
  },
  {
   "cell_type": "code",
   "execution_count": 1309,
   "id": "5607aa92-f68f-4ac0-a760-f82bb9cd8fbb",
   "metadata": {},
   "outputs": [
    {
     "data": {
      "text/html": [
       "<div>\n",
       "<style scoped>\n",
       "    .dataframe tbody tr th:only-of-type {\n",
       "        vertical-align: middle;\n",
       "    }\n",
       "\n",
       "    .dataframe tbody tr th {\n",
       "        vertical-align: top;\n",
       "    }\n",
       "\n",
       "    .dataframe thead th {\n",
       "        text-align: right;\n",
       "    }\n",
       "</style>\n",
       "<table border=\"1\" class=\"dataframe\">\n",
       "  <thead>\n",
       "    <tr style=\"text-align: right;\">\n",
       "      <th></th>\n",
       "      <th>Country</th>\n",
       "      <th>Happiness.Rank</th>\n",
       "      <th>Happiness.Score</th>\n",
       "      <th>Whisker.high</th>\n",
       "      <th>Whisker.low</th>\n",
       "      <th>Economy..GDP.per.Capita.</th>\n",
       "      <th>Family</th>\n",
       "      <th>Health..Life.Expectancy.</th>\n",
       "      <th>Freedom</th>\n",
       "      <th>Generosity</th>\n",
       "      <th>Trust..Government.Corruption.</th>\n",
       "      <th>Dystopia.Residual</th>\n",
       "    </tr>\n",
       "  </thead>\n",
       "  <tbody>\n",
       "    <tr>\n",
       "      <th>28</th>\n",
       "      <td>Guatemala</td>\n",
       "      <td>29</td>\n",
       "      <td>6.454</td>\n",
       "      <td>6.566874</td>\n",
       "      <td>6.341126</td>\n",
       "      <td>0.872002</td>\n",
       "      <td>1.255585</td>\n",
       "      <td>0.540240</td>\n",
       "      <td>0.531311</td>\n",
       "      <td>0.283488</td>\n",
       "      <td>0.077223</td>\n",
       "      <td>2.893891</td>\n",
       "    </tr>\n",
       "    <tr>\n",
       "      <th>54</th>\n",
       "      <td>South Korea</td>\n",
       "      <td>55</td>\n",
       "      <td>5.838</td>\n",
       "      <td>5.922559</td>\n",
       "      <td>5.753441</td>\n",
       "      <td>1.401678</td>\n",
       "      <td>1.128274</td>\n",
       "      <td>0.900214</td>\n",
       "      <td>0.257922</td>\n",
       "      <td>0.206674</td>\n",
       "      <td>0.063283</td>\n",
       "      <td>1.880378</td>\n",
       "    </tr>\n",
       "    <tr>\n",
       "      <th>116</th>\n",
       "      <td>Iraq</td>\n",
       "      <td>117</td>\n",
       "      <td>4.497</td>\n",
       "      <td>4.622591</td>\n",
       "      <td>4.371409</td>\n",
       "      <td>1.102710</td>\n",
       "      <td>0.978613</td>\n",
       "      <td>0.501180</td>\n",
       "      <td>0.288556</td>\n",
       "      <td>0.199637</td>\n",
       "      <td>0.107216</td>\n",
       "      <td>1.318907</td>\n",
       "    </tr>\n",
       "    <tr>\n",
       "      <th>46</th>\n",
       "      <td>Uzbekistan</td>\n",
       "      <td>47</td>\n",
       "      <td>5.971</td>\n",
       "      <td>6.065538</td>\n",
       "      <td>5.876463</td>\n",
       "      <td>0.786441</td>\n",
       "      <td>1.548969</td>\n",
       "      <td>0.498273</td>\n",
       "      <td>0.658249</td>\n",
       "      <td>0.415984</td>\n",
       "      <td>0.246528</td>\n",
       "      <td>1.816914</td>\n",
       "    </tr>\n",
       "    <tr>\n",
       "      <th>144</th>\n",
       "      <td>Haiti</td>\n",
       "      <td>145</td>\n",
       "      <td>3.603</td>\n",
       "      <td>3.734715</td>\n",
       "      <td>3.471285</td>\n",
       "      <td>0.368610</td>\n",
       "      <td>0.640450</td>\n",
       "      <td>0.277321</td>\n",
       "      <td>0.030370</td>\n",
       "      <td>0.489204</td>\n",
       "      <td>0.099872</td>\n",
       "      <td>1.697168</td>\n",
       "    </tr>\n",
       "  </tbody>\n",
       "</table>\n",
       "</div>"
      ],
      "text/plain": [
       "         Country  Happiness.Rank  Happiness.Score  Whisker.high  Whisker.low  \\\n",
       "28     Guatemala              29            6.454      6.566874     6.341126   \n",
       "54   South Korea              55            5.838      5.922559     5.753441   \n",
       "116         Iraq             117            4.497      4.622591     4.371409   \n",
       "46    Uzbekistan              47            5.971      6.065538     5.876463   \n",
       "144        Haiti             145            3.603      3.734715     3.471285   \n",
       "\n",
       "     Economy..GDP.per.Capita.    Family  Health..Life.Expectancy.   Freedom  \\\n",
       "28                   0.872002  1.255585                  0.540240  0.531311   \n",
       "54                   1.401678  1.128274                  0.900214  0.257922   \n",
       "116                  1.102710  0.978613                  0.501180  0.288556   \n",
       "46                   0.786441  1.548969                  0.498273  0.658249   \n",
       "144                  0.368610  0.640450                  0.277321  0.030370   \n",
       "\n",
       "     Generosity  Trust..Government.Corruption.  Dystopia.Residual  \n",
       "28     0.283488                       0.077223           2.893891  \n",
       "54     0.206674                       0.063283           1.880378  \n",
       "116    0.199637                       0.107216           1.318907  \n",
       "46     0.415984                       0.246528           1.816914  \n",
       "144    0.489204                       0.099872           1.697168  "
      ]
     },
     "execution_count": 1309,
     "metadata": {},
     "output_type": "execute_result"
    }
   ],
   "source": [
    "df_2017.sample(5)"
   ]
  },
  {
   "cell_type": "code",
   "execution_count": 1310,
   "id": "ec41c4a2-3f16-4957-a3ac-ed1ae023dd96",
   "metadata": {},
   "outputs": [
    {
     "data": {
      "text/html": [
       "<div>\n",
       "<style scoped>\n",
       "    .dataframe tbody tr th:only-of-type {\n",
       "        vertical-align: middle;\n",
       "    }\n",
       "\n",
       "    .dataframe tbody tr th {\n",
       "        vertical-align: top;\n",
       "    }\n",
       "\n",
       "    .dataframe thead th {\n",
       "        text-align: right;\n",
       "    }\n",
       "</style>\n",
       "<table border=\"1\" class=\"dataframe\">\n",
       "  <thead>\n",
       "    <tr style=\"text-align: right;\">\n",
       "      <th></th>\n",
       "      <th>Overall rank</th>\n",
       "      <th>Country or region</th>\n",
       "      <th>Score</th>\n",
       "      <th>GDP per capita</th>\n",
       "      <th>Social support</th>\n",
       "      <th>Healthy life expectancy</th>\n",
       "      <th>Freedom to make life choices</th>\n",
       "      <th>Generosity</th>\n",
       "      <th>Perceptions of corruption</th>\n",
       "    </tr>\n",
       "  </thead>\n",
       "  <tbody>\n",
       "    <tr>\n",
       "      <th>148</th>\n",
       "      <td>149</td>\n",
       "      <td>Liberia</td>\n",
       "      <td>3.495</td>\n",
       "      <td>0.076</td>\n",
       "      <td>0.858</td>\n",
       "      <td>0.267</td>\n",
       "      <td>0.419</td>\n",
       "      <td>0.206</td>\n",
       "      <td>0.030</td>\n",
       "    </tr>\n",
       "    <tr>\n",
       "      <th>152</th>\n",
       "      <td>153</td>\n",
       "      <td>Tanzania</td>\n",
       "      <td>3.303</td>\n",
       "      <td>0.455</td>\n",
       "      <td>0.991</td>\n",
       "      <td>0.381</td>\n",
       "      <td>0.481</td>\n",
       "      <td>0.270</td>\n",
       "      <td>0.097</td>\n",
       "    </tr>\n",
       "    <tr>\n",
       "      <th>9</th>\n",
       "      <td>10</td>\n",
       "      <td>Australia</td>\n",
       "      <td>7.272</td>\n",
       "      <td>1.340</td>\n",
       "      <td>1.573</td>\n",
       "      <td>0.910</td>\n",
       "      <td>0.647</td>\n",
       "      <td>0.361</td>\n",
       "      <td>0.302</td>\n",
       "    </tr>\n",
       "    <tr>\n",
       "      <th>104</th>\n",
       "      <td>105</td>\n",
       "      <td>South Africa</td>\n",
       "      <td>4.724</td>\n",
       "      <td>0.940</td>\n",
       "      <td>1.410</td>\n",
       "      <td>0.330</td>\n",
       "      <td>0.516</td>\n",
       "      <td>0.103</td>\n",
       "      <td>0.056</td>\n",
       "    </tr>\n",
       "    <tr>\n",
       "      <th>13</th>\n",
       "      <td>14</td>\n",
       "      <td>Ireland</td>\n",
       "      <td>6.977</td>\n",
       "      <td>1.448</td>\n",
       "      <td>1.583</td>\n",
       "      <td>0.876</td>\n",
       "      <td>0.614</td>\n",
       "      <td>0.307</td>\n",
       "      <td>0.306</td>\n",
       "    </tr>\n",
       "  </tbody>\n",
       "</table>\n",
       "</div>"
      ],
      "text/plain": [
       "     Overall rank Country or region  Score  GDP per capita  Social support  \\\n",
       "148           149           Liberia  3.495           0.076           0.858   \n",
       "152           153          Tanzania  3.303           0.455           0.991   \n",
       "9              10         Australia  7.272           1.340           1.573   \n",
       "104           105      South Africa  4.724           0.940           1.410   \n",
       "13             14           Ireland  6.977           1.448           1.583   \n",
       "\n",
       "     Healthy life expectancy  Freedom to make life choices  Generosity  \\\n",
       "148                    0.267                         0.419       0.206   \n",
       "152                    0.381                         0.481       0.270   \n",
       "9                      0.910                         0.647       0.361   \n",
       "104                    0.330                         0.516       0.103   \n",
       "13                     0.876                         0.614       0.307   \n",
       "\n",
       "     Perceptions of corruption  \n",
       "148                      0.030  \n",
       "152                      0.097  \n",
       "9                        0.302  \n",
       "104                      0.056  \n",
       "13                       0.306  "
      ]
     },
     "execution_count": 1310,
     "metadata": {},
     "output_type": "execute_result"
    }
   ],
   "source": [
    "df_2018.sample(5)"
   ]
  },
  {
   "cell_type": "code",
   "execution_count": 1311,
   "id": "9dbb6f49-5f21-4d8d-becf-4f7bbd48c5f4",
   "metadata": {},
   "outputs": [
    {
     "data": {
      "text/html": [
       "<div>\n",
       "<style scoped>\n",
       "    .dataframe tbody tr th:only-of-type {\n",
       "        vertical-align: middle;\n",
       "    }\n",
       "\n",
       "    .dataframe tbody tr th {\n",
       "        vertical-align: top;\n",
       "    }\n",
       "\n",
       "    .dataframe thead th {\n",
       "        text-align: right;\n",
       "    }\n",
       "</style>\n",
       "<table border=\"1\" class=\"dataframe\">\n",
       "  <thead>\n",
       "    <tr style=\"text-align: right;\">\n",
       "      <th></th>\n",
       "      <th>Overall rank</th>\n",
       "      <th>Country or region</th>\n",
       "      <th>Score</th>\n",
       "      <th>GDP per capita</th>\n",
       "      <th>Social support</th>\n",
       "      <th>Healthy life expectancy</th>\n",
       "      <th>Freedom to make life choices</th>\n",
       "      <th>Generosity</th>\n",
       "      <th>Perceptions of corruption</th>\n",
       "    </tr>\n",
       "  </thead>\n",
       "  <tbody>\n",
       "    <tr>\n",
       "      <th>3</th>\n",
       "      <td>4</td>\n",
       "      <td>Iceland</td>\n",
       "      <td>7.494</td>\n",
       "      <td>1.380</td>\n",
       "      <td>1.624</td>\n",
       "      <td>1.026</td>\n",
       "      <td>0.591</td>\n",
       "      <td>0.354</td>\n",
       "      <td>0.118</td>\n",
       "    </tr>\n",
       "    <tr>\n",
       "      <th>153</th>\n",
       "      <td>154</td>\n",
       "      <td>Afghanistan</td>\n",
       "      <td>3.203</td>\n",
       "      <td>0.350</td>\n",
       "      <td>0.517</td>\n",
       "      <td>0.361</td>\n",
       "      <td>0.000</td>\n",
       "      <td>0.158</td>\n",
       "      <td>0.025</td>\n",
       "    </tr>\n",
       "    <tr>\n",
       "      <th>109</th>\n",
       "      <td>110</td>\n",
       "      <td>Palestinian Territories</td>\n",
       "      <td>4.696</td>\n",
       "      <td>0.657</td>\n",
       "      <td>1.247</td>\n",
       "      <td>0.672</td>\n",
       "      <td>0.225</td>\n",
       "      <td>0.103</td>\n",
       "      <td>0.066</td>\n",
       "    </tr>\n",
       "    <tr>\n",
       "      <th>65</th>\n",
       "      <td>66</td>\n",
       "      <td>Portugal</td>\n",
       "      <td>5.693</td>\n",
       "      <td>1.221</td>\n",
       "      <td>1.431</td>\n",
       "      <td>0.999</td>\n",
       "      <td>0.508</td>\n",
       "      <td>0.047</td>\n",
       "      <td>0.025</td>\n",
       "    </tr>\n",
       "    <tr>\n",
       "      <th>59</th>\n",
       "      <td>60</td>\n",
       "      <td>Kazakhstan</td>\n",
       "      <td>5.809</td>\n",
       "      <td>1.173</td>\n",
       "      <td>1.508</td>\n",
       "      <td>0.729</td>\n",
       "      <td>0.410</td>\n",
       "      <td>0.146</td>\n",
       "      <td>0.096</td>\n",
       "    </tr>\n",
       "  </tbody>\n",
       "</table>\n",
       "</div>"
      ],
      "text/plain": [
       "     Overall rank        Country or region  Score  GDP per capita  \\\n",
       "3               4                  Iceland  7.494           1.380   \n",
       "153           154              Afghanistan  3.203           0.350   \n",
       "109           110  Palestinian Territories  4.696           0.657   \n",
       "65             66                 Portugal  5.693           1.221   \n",
       "59             60               Kazakhstan  5.809           1.173   \n",
       "\n",
       "     Social support  Healthy life expectancy  Freedom to make life choices  \\\n",
       "3             1.624                    1.026                         0.591   \n",
       "153           0.517                    0.361                         0.000   \n",
       "109           1.247                    0.672                         0.225   \n",
       "65            1.431                    0.999                         0.508   \n",
       "59            1.508                    0.729                         0.410   \n",
       "\n",
       "     Generosity  Perceptions of corruption  \n",
       "3         0.354                      0.118  \n",
       "153       0.158                      0.025  \n",
       "109       0.103                      0.066  \n",
       "65        0.047                      0.025  \n",
       "59        0.146                      0.096  "
      ]
     },
     "execution_count": 1311,
     "metadata": {},
     "output_type": "execute_result"
    }
   ],
   "source": [
    "df_2019.sample(5)"
   ]
  },
  {
   "cell_type": "code",
   "execution_count": 1312,
   "id": "affd989f-3233-40b2-8d03-6b5c696108d6",
   "metadata": {},
   "outputs": [],
   "source": [
    "#merged_df = pd.concat([df_2015,df_2016,df_2017], axis=1) # concat all dataframes on columns"
   ]
  },
  {
   "cell_type": "code",
   "execution_count": 1313,
   "id": "bfde0b69-613c-4dd1-8ebf-e4d2e570e653",
   "metadata": {},
   "outputs": [
    {
     "name": "stdout",
     "output_type": "stream",
     "text": [
      "df_2015 shape (158, 12) \n",
      "df_2016 shape (157, 13) \n",
      "df_2017 shape (155, 12) \n",
      "df_2018 shape (156, 9) \n",
      "df_2019 shape (156, 9)\n"
     ]
    }
   ],
   "source": [
    "# Shape of each year dataset\n",
    "print(\"df_2015 shape\",df_2015.shape, \"\\ndf_2016 shape\",df_2016.shape,\n",
    "      \"\\ndf_2017 shape\",df_2017.shape, \"\\ndf_2018 shape\",df_2018.shape, \"\\ndf_2019 shape\",df_2019.shape)"
   ]
  },
  {
   "cell_type": "markdown",
   "id": "bd2b5bc4-db37-4432-b666-0714afd0c4ca",
   "metadata": {},
   "source": [
    "## 1. Data Profiling:\n",
    "Data profiling is a comprehensive process of examining the data available in an existing dataset and collecting statistics and information about that data. "
   ]
  },
  {
   "cell_type": "code",
   "execution_count": 1315,
   "id": "672f2081-5a2c-4908-8cbd-29519fb3cac5",
   "metadata": {},
   "outputs": [
    {
     "name": "stdout",
     "output_type": "stream",
     "text": [
      "<class 'pandas.core.frame.DataFrame'>\n",
      "RangeIndex: 158 entries, 0 to 157\n",
      "Data columns (total 12 columns):\n",
      " #   Column                         Non-Null Count  Dtype  \n",
      "---  ------                         --------------  -----  \n",
      " 0   Country                        158 non-null    object \n",
      " 1   Region                         158 non-null    object \n",
      " 2   Happiness Rank                 158 non-null    int64  \n",
      " 3   Happiness Score                158 non-null    float64\n",
      " 4   Standard Error                 158 non-null    float64\n",
      " 5   Economy (GDP per Capita)       158 non-null    float64\n",
      " 6   Family                         158 non-null    float64\n",
      " 7   Health (Life Expectancy)       158 non-null    float64\n",
      " 8   Freedom                        158 non-null    float64\n",
      " 9   Trust (Government Corruption)  158 non-null    float64\n",
      " 10  Generosity                     158 non-null    float64\n",
      " 11  Dystopia Residual              158 non-null    float64\n",
      "dtypes: float64(9), int64(1), object(2)\n",
      "memory usage: 14.9+ KB\n"
     ]
    }
   ],
   "source": [
    "# get some facts about each data\n",
    "df_2015.info()"
   ]
  },
  {
   "cell_type": "code",
   "execution_count": 1316,
   "id": "813520ae-26eb-49f2-bf2b-7c1c41e4bca5",
   "metadata": {},
   "outputs": [
    {
     "name": "stdout",
     "output_type": "stream",
     "text": [
      "<class 'pandas.core.frame.DataFrame'>\n",
      "RangeIndex: 157 entries, 0 to 156\n",
      "Data columns (total 13 columns):\n",
      " #   Column                         Non-Null Count  Dtype  \n",
      "---  ------                         --------------  -----  \n",
      " 0   Country                        157 non-null    object \n",
      " 1   Region                         157 non-null    object \n",
      " 2   Happiness Rank                 157 non-null    int64  \n",
      " 3   Happiness Score                157 non-null    float64\n",
      " 4   Lower Confidence Interval      157 non-null    float64\n",
      " 5   Upper Confidence Interval      157 non-null    float64\n",
      " 6   Economy (GDP per Capita)       157 non-null    float64\n",
      " 7   Family                         157 non-null    float64\n",
      " 8   Health (Life Expectancy)       157 non-null    float64\n",
      " 9   Freedom                        157 non-null    float64\n",
      " 10  Trust (Government Corruption)  157 non-null    float64\n",
      " 11  Generosity                     157 non-null    float64\n",
      " 12  Dystopia Residual              157 non-null    float64\n",
      "dtypes: float64(10), int64(1), object(2)\n",
      "memory usage: 16.1+ KB\n"
     ]
    }
   ],
   "source": [
    "# get some facts about each data\n",
    "df_2016.info()"
   ]
  },
  {
   "cell_type": "code",
   "execution_count": 1317,
   "id": "c5680476-78b1-4d43-9406-1b74db1c70c6",
   "metadata": {},
   "outputs": [
    {
     "name": "stdout",
     "output_type": "stream",
     "text": [
      "<class 'pandas.core.frame.DataFrame'>\n",
      "RangeIndex: 155 entries, 0 to 154\n",
      "Data columns (total 12 columns):\n",
      " #   Column                         Non-Null Count  Dtype  \n",
      "---  ------                         --------------  -----  \n",
      " 0   Country                        155 non-null    object \n",
      " 1   Happiness.Rank                 155 non-null    int64  \n",
      " 2   Happiness.Score                155 non-null    float64\n",
      " 3   Whisker.high                   155 non-null    float64\n",
      " 4   Whisker.low                    155 non-null    float64\n",
      " 5   Economy..GDP.per.Capita.       155 non-null    float64\n",
      " 6   Family                         155 non-null    float64\n",
      " 7   Health..Life.Expectancy.       155 non-null    float64\n",
      " 8   Freedom                        155 non-null    float64\n",
      " 9   Generosity                     155 non-null    float64\n",
      " 10  Trust..Government.Corruption.  155 non-null    float64\n",
      " 11  Dystopia.Residual              155 non-null    float64\n",
      "dtypes: float64(10), int64(1), object(1)\n",
      "memory usage: 14.7+ KB\n"
     ]
    }
   ],
   "source": [
    "# get some facts about each data\n",
    "df_2017.info()"
   ]
  },
  {
   "cell_type": "code",
   "execution_count": 1318,
   "id": "de31f03a-33cf-4238-b93f-f65dfbae3529",
   "metadata": {},
   "outputs": [
    {
     "name": "stdout",
     "output_type": "stream",
     "text": [
      "<class 'pandas.core.frame.DataFrame'>\n",
      "RangeIndex: 156 entries, 0 to 155\n",
      "Data columns (total 9 columns):\n",
      " #   Column                        Non-Null Count  Dtype  \n",
      "---  ------                        --------------  -----  \n",
      " 0   Overall rank                  156 non-null    int64  \n",
      " 1   Country or region             156 non-null    object \n",
      " 2   Score                         156 non-null    float64\n",
      " 3   GDP per capita                156 non-null    float64\n",
      " 4   Social support                156 non-null    float64\n",
      " 5   Healthy life expectancy       156 non-null    float64\n",
      " 6   Freedom to make life choices  156 non-null    float64\n",
      " 7   Generosity                    156 non-null    float64\n",
      " 8   Perceptions of corruption     155 non-null    float64\n",
      "dtypes: float64(7), int64(1), object(1)\n",
      "memory usage: 11.1+ KB\n"
     ]
    }
   ],
   "source": [
    "# get some facts about each data\n",
    "df_2018.info()"
   ]
  },
  {
   "cell_type": "code",
   "execution_count": 1319,
   "id": "ee3f3386-9dcb-40ae-96e0-c40cb96e0ac3",
   "metadata": {},
   "outputs": [
    {
     "name": "stdout",
     "output_type": "stream",
     "text": [
      "<class 'pandas.core.frame.DataFrame'>\n",
      "RangeIndex: 156 entries, 0 to 155\n",
      "Data columns (total 9 columns):\n",
      " #   Column                        Non-Null Count  Dtype  \n",
      "---  ------                        --------------  -----  \n",
      " 0   Overall rank                  156 non-null    int64  \n",
      " 1   Country or region             156 non-null    object \n",
      " 2   Score                         156 non-null    float64\n",
      " 3   GDP per capita                156 non-null    float64\n",
      " 4   Social support                156 non-null    float64\n",
      " 5   Healthy life expectancy       156 non-null    float64\n",
      " 6   Freedom to make life choices  156 non-null    float64\n",
      " 7   Generosity                    156 non-null    float64\n",
      " 8   Perceptions of corruption     156 non-null    float64\n",
      "dtypes: float64(7), int64(1), object(1)\n",
      "memory usage: 11.1+ KB\n"
     ]
    }
   ],
   "source": [
    "# get some facts about each data\n",
    "df_2019.info()"
   ]
  },
  {
   "cell_type": "code",
   "execution_count": 1320,
   "id": "05cd455f-57ae-4d61-8087-e51e0dfa451d",
   "metadata": {},
   "outputs": [
    {
     "data": {
      "text/html": [
       "<div>\n",
       "<style scoped>\n",
       "    .dataframe tbody tr th:only-of-type {\n",
       "        vertical-align: middle;\n",
       "    }\n",
       "\n",
       "    .dataframe tbody tr th {\n",
       "        vertical-align: top;\n",
       "    }\n",
       "\n",
       "    .dataframe thead th {\n",
       "        text-align: right;\n",
       "    }\n",
       "</style>\n",
       "<table border=\"1\" class=\"dataframe\">\n",
       "  <thead>\n",
       "    <tr style=\"text-align: right;\">\n",
       "      <th></th>\n",
       "      <th>count</th>\n",
       "      <th>mean</th>\n",
       "      <th>std</th>\n",
       "      <th>min</th>\n",
       "      <th>25%</th>\n",
       "      <th>50%</th>\n",
       "      <th>75%</th>\n",
       "      <th>max</th>\n",
       "    </tr>\n",
       "  </thead>\n",
       "  <tbody>\n",
       "    <tr>\n",
       "      <th>Happiness Rank</th>\n",
       "      <td>158.0</td>\n",
       "      <td>79.493671</td>\n",
       "      <td>45.754363</td>\n",
       "      <td>1.00000</td>\n",
       "      <td>40.250000</td>\n",
       "      <td>79.500000</td>\n",
       "      <td>118.750000</td>\n",
       "      <td>158.00000</td>\n",
       "    </tr>\n",
       "    <tr>\n",
       "      <th>Happiness Score</th>\n",
       "      <td>158.0</td>\n",
       "      <td>5.375734</td>\n",
       "      <td>1.145010</td>\n",
       "      <td>2.83900</td>\n",
       "      <td>4.526000</td>\n",
       "      <td>5.232500</td>\n",
       "      <td>6.243750</td>\n",
       "      <td>7.58700</td>\n",
       "    </tr>\n",
       "    <tr>\n",
       "      <th>Standard Error</th>\n",
       "      <td>158.0</td>\n",
       "      <td>0.047885</td>\n",
       "      <td>0.017146</td>\n",
       "      <td>0.01848</td>\n",
       "      <td>0.037268</td>\n",
       "      <td>0.043940</td>\n",
       "      <td>0.052300</td>\n",
       "      <td>0.13693</td>\n",
       "    </tr>\n",
       "    <tr>\n",
       "      <th>Economy (GDP per Capita)</th>\n",
       "      <td>158.0</td>\n",
       "      <td>0.846137</td>\n",
       "      <td>0.403121</td>\n",
       "      <td>0.00000</td>\n",
       "      <td>0.545808</td>\n",
       "      <td>0.910245</td>\n",
       "      <td>1.158448</td>\n",
       "      <td>1.69042</td>\n",
       "    </tr>\n",
       "    <tr>\n",
       "      <th>Family</th>\n",
       "      <td>158.0</td>\n",
       "      <td>0.991046</td>\n",
       "      <td>0.272369</td>\n",
       "      <td>0.00000</td>\n",
       "      <td>0.856823</td>\n",
       "      <td>1.029510</td>\n",
       "      <td>1.214405</td>\n",
       "      <td>1.40223</td>\n",
       "    </tr>\n",
       "    <tr>\n",
       "      <th>Health (Life Expectancy)</th>\n",
       "      <td>158.0</td>\n",
       "      <td>0.630259</td>\n",
       "      <td>0.247078</td>\n",
       "      <td>0.00000</td>\n",
       "      <td>0.439185</td>\n",
       "      <td>0.696705</td>\n",
       "      <td>0.811013</td>\n",
       "      <td>1.02525</td>\n",
       "    </tr>\n",
       "    <tr>\n",
       "      <th>Freedom</th>\n",
       "      <td>158.0</td>\n",
       "      <td>0.428615</td>\n",
       "      <td>0.150693</td>\n",
       "      <td>0.00000</td>\n",
       "      <td>0.328330</td>\n",
       "      <td>0.435515</td>\n",
       "      <td>0.549092</td>\n",
       "      <td>0.66973</td>\n",
       "    </tr>\n",
       "    <tr>\n",
       "      <th>Trust (Government Corruption)</th>\n",
       "      <td>158.0</td>\n",
       "      <td>0.143422</td>\n",
       "      <td>0.120034</td>\n",
       "      <td>0.00000</td>\n",
       "      <td>0.061675</td>\n",
       "      <td>0.107220</td>\n",
       "      <td>0.180255</td>\n",
       "      <td>0.55191</td>\n",
       "    </tr>\n",
       "    <tr>\n",
       "      <th>Generosity</th>\n",
       "      <td>158.0</td>\n",
       "      <td>0.237296</td>\n",
       "      <td>0.126685</td>\n",
       "      <td>0.00000</td>\n",
       "      <td>0.150553</td>\n",
       "      <td>0.216130</td>\n",
       "      <td>0.309883</td>\n",
       "      <td>0.79588</td>\n",
       "    </tr>\n",
       "    <tr>\n",
       "      <th>Dystopia Residual</th>\n",
       "      <td>158.0</td>\n",
       "      <td>2.098977</td>\n",
       "      <td>0.553550</td>\n",
       "      <td>0.32858</td>\n",
       "      <td>1.759410</td>\n",
       "      <td>2.095415</td>\n",
       "      <td>2.462415</td>\n",
       "      <td>3.60214</td>\n",
       "    </tr>\n",
       "  </tbody>\n",
       "</table>\n",
       "</div>"
      ],
      "text/plain": [
       "                               count       mean        std      min  \\\n",
       "Happiness Rank                 158.0  79.493671  45.754363  1.00000   \n",
       "Happiness Score                158.0   5.375734   1.145010  2.83900   \n",
       "Standard Error                 158.0   0.047885   0.017146  0.01848   \n",
       "Economy (GDP per Capita)       158.0   0.846137   0.403121  0.00000   \n",
       "Family                         158.0   0.991046   0.272369  0.00000   \n",
       "Health (Life Expectancy)       158.0   0.630259   0.247078  0.00000   \n",
       "Freedom                        158.0   0.428615   0.150693  0.00000   \n",
       "Trust (Government Corruption)  158.0   0.143422   0.120034  0.00000   \n",
       "Generosity                     158.0   0.237296   0.126685  0.00000   \n",
       "Dystopia Residual              158.0   2.098977   0.553550  0.32858   \n",
       "\n",
       "                                     25%        50%         75%        max  \n",
       "Happiness Rank                 40.250000  79.500000  118.750000  158.00000  \n",
       "Happiness Score                 4.526000   5.232500    6.243750    7.58700  \n",
       "Standard Error                  0.037268   0.043940    0.052300    0.13693  \n",
       "Economy (GDP per Capita)        0.545808   0.910245    1.158448    1.69042  \n",
       "Family                          0.856823   1.029510    1.214405    1.40223  \n",
       "Health (Life Expectancy)        0.439185   0.696705    0.811013    1.02525  \n",
       "Freedom                         0.328330   0.435515    0.549092    0.66973  \n",
       "Trust (Government Corruption)   0.061675   0.107220    0.180255    0.55191  \n",
       "Generosity                      0.150553   0.216130    0.309883    0.79588  \n",
       "Dystopia Residual               1.759410   2.095415    2.462415    3.60214  "
      ]
     },
     "execution_count": 1320,
     "metadata": {},
     "output_type": "execute_result"
    }
   ],
   "source": [
    "# describe statistics of each data\n",
    "df_2015.describe().T"
   ]
  },
  {
   "cell_type": "code",
   "execution_count": 1321,
   "id": "20690cb9-09c4-427f-be64-85901fb8d990",
   "metadata": {},
   "outputs": [
    {
     "data": {
      "text/html": [
       "<div>\n",
       "<style scoped>\n",
       "    .dataframe tbody tr th:only-of-type {\n",
       "        vertical-align: middle;\n",
       "    }\n",
       "\n",
       "    .dataframe tbody tr th {\n",
       "        vertical-align: top;\n",
       "    }\n",
       "\n",
       "    .dataframe thead th {\n",
       "        text-align: right;\n",
       "    }\n",
       "</style>\n",
       "<table border=\"1\" class=\"dataframe\">\n",
       "  <thead>\n",
       "    <tr style=\"text-align: right;\">\n",
       "      <th></th>\n",
       "      <th>count</th>\n",
       "      <th>mean</th>\n",
       "      <th>std</th>\n",
       "      <th>min</th>\n",
       "      <th>25%</th>\n",
       "      <th>50%</th>\n",
       "      <th>75%</th>\n",
       "      <th>max</th>\n",
       "    </tr>\n",
       "  </thead>\n",
       "  <tbody>\n",
       "    <tr>\n",
       "      <th>Happiness Rank</th>\n",
       "      <td>157.0</td>\n",
       "      <td>78.980892</td>\n",
       "      <td>45.466030</td>\n",
       "      <td>1.00000</td>\n",
       "      <td>40.00000</td>\n",
       "      <td>79.00000</td>\n",
       "      <td>118.00000</td>\n",
       "      <td>157.00000</td>\n",
       "    </tr>\n",
       "    <tr>\n",
       "      <th>Happiness Score</th>\n",
       "      <td>157.0</td>\n",
       "      <td>5.382185</td>\n",
       "      <td>1.141674</td>\n",
       "      <td>2.90500</td>\n",
       "      <td>4.40400</td>\n",
       "      <td>5.31400</td>\n",
       "      <td>6.26900</td>\n",
       "      <td>7.52600</td>\n",
       "    </tr>\n",
       "    <tr>\n",
       "      <th>Lower Confidence Interval</th>\n",
       "      <td>157.0</td>\n",
       "      <td>5.282395</td>\n",
       "      <td>1.148043</td>\n",
       "      <td>2.73200</td>\n",
       "      <td>4.32700</td>\n",
       "      <td>5.23700</td>\n",
       "      <td>6.15400</td>\n",
       "      <td>7.46000</td>\n",
       "    </tr>\n",
       "    <tr>\n",
       "      <th>Upper Confidence Interval</th>\n",
       "      <td>157.0</td>\n",
       "      <td>5.481975</td>\n",
       "      <td>1.136493</td>\n",
       "      <td>3.07800</td>\n",
       "      <td>4.46500</td>\n",
       "      <td>5.41900</td>\n",
       "      <td>6.43400</td>\n",
       "      <td>7.66900</td>\n",
       "    </tr>\n",
       "    <tr>\n",
       "      <th>Economy (GDP per Capita)</th>\n",
       "      <td>157.0</td>\n",
       "      <td>0.953880</td>\n",
       "      <td>0.412595</td>\n",
       "      <td>0.00000</td>\n",
       "      <td>0.67024</td>\n",
       "      <td>1.02780</td>\n",
       "      <td>1.27964</td>\n",
       "      <td>1.82427</td>\n",
       "    </tr>\n",
       "    <tr>\n",
       "      <th>Family</th>\n",
       "      <td>157.0</td>\n",
       "      <td>0.793621</td>\n",
       "      <td>0.266706</td>\n",
       "      <td>0.00000</td>\n",
       "      <td>0.64184</td>\n",
       "      <td>0.84142</td>\n",
       "      <td>1.02152</td>\n",
       "      <td>1.18326</td>\n",
       "    </tr>\n",
       "    <tr>\n",
       "      <th>Health (Life Expectancy)</th>\n",
       "      <td>157.0</td>\n",
       "      <td>0.557619</td>\n",
       "      <td>0.229349</td>\n",
       "      <td>0.00000</td>\n",
       "      <td>0.38291</td>\n",
       "      <td>0.59659</td>\n",
       "      <td>0.72993</td>\n",
       "      <td>0.95277</td>\n",
       "    </tr>\n",
       "    <tr>\n",
       "      <th>Freedom</th>\n",
       "      <td>157.0</td>\n",
       "      <td>0.370994</td>\n",
       "      <td>0.145507</td>\n",
       "      <td>0.00000</td>\n",
       "      <td>0.25748</td>\n",
       "      <td>0.39747</td>\n",
       "      <td>0.48453</td>\n",
       "      <td>0.60848</td>\n",
       "    </tr>\n",
       "    <tr>\n",
       "      <th>Trust (Government Corruption)</th>\n",
       "      <td>157.0</td>\n",
       "      <td>0.137624</td>\n",
       "      <td>0.111038</td>\n",
       "      <td>0.00000</td>\n",
       "      <td>0.06126</td>\n",
       "      <td>0.10547</td>\n",
       "      <td>0.17554</td>\n",
       "      <td>0.50521</td>\n",
       "    </tr>\n",
       "    <tr>\n",
       "      <th>Generosity</th>\n",
       "      <td>157.0</td>\n",
       "      <td>0.242635</td>\n",
       "      <td>0.133756</td>\n",
       "      <td>0.00000</td>\n",
       "      <td>0.15457</td>\n",
       "      <td>0.22245</td>\n",
       "      <td>0.31185</td>\n",
       "      <td>0.81971</td>\n",
       "    </tr>\n",
       "    <tr>\n",
       "      <th>Dystopia Residual</th>\n",
       "      <td>157.0</td>\n",
       "      <td>2.325807</td>\n",
       "      <td>0.542220</td>\n",
       "      <td>0.81789</td>\n",
       "      <td>2.03171</td>\n",
       "      <td>2.29074</td>\n",
       "      <td>2.66465</td>\n",
       "      <td>3.83772</td>\n",
       "    </tr>\n",
       "  </tbody>\n",
       "</table>\n",
       "</div>"
      ],
      "text/plain": [
       "                               count       mean        std      min       25%  \\\n",
       "Happiness Rank                 157.0  78.980892  45.466030  1.00000  40.00000   \n",
       "Happiness Score                157.0   5.382185   1.141674  2.90500   4.40400   \n",
       "Lower Confidence Interval      157.0   5.282395   1.148043  2.73200   4.32700   \n",
       "Upper Confidence Interval      157.0   5.481975   1.136493  3.07800   4.46500   \n",
       "Economy (GDP per Capita)       157.0   0.953880   0.412595  0.00000   0.67024   \n",
       "Family                         157.0   0.793621   0.266706  0.00000   0.64184   \n",
       "Health (Life Expectancy)       157.0   0.557619   0.229349  0.00000   0.38291   \n",
       "Freedom                        157.0   0.370994   0.145507  0.00000   0.25748   \n",
       "Trust (Government Corruption)  157.0   0.137624   0.111038  0.00000   0.06126   \n",
       "Generosity                     157.0   0.242635   0.133756  0.00000   0.15457   \n",
       "Dystopia Residual              157.0   2.325807   0.542220  0.81789   2.03171   \n",
       "\n",
       "                                    50%        75%        max  \n",
       "Happiness Rank                 79.00000  118.00000  157.00000  \n",
       "Happiness Score                 5.31400    6.26900    7.52600  \n",
       "Lower Confidence Interval       5.23700    6.15400    7.46000  \n",
       "Upper Confidence Interval       5.41900    6.43400    7.66900  \n",
       "Economy (GDP per Capita)        1.02780    1.27964    1.82427  \n",
       "Family                          0.84142    1.02152    1.18326  \n",
       "Health (Life Expectancy)        0.59659    0.72993    0.95277  \n",
       "Freedom                         0.39747    0.48453    0.60848  \n",
       "Trust (Government Corruption)   0.10547    0.17554    0.50521  \n",
       "Generosity                      0.22245    0.31185    0.81971  \n",
       "Dystopia Residual               2.29074    2.66465    3.83772  "
      ]
     },
     "execution_count": 1321,
     "metadata": {},
     "output_type": "execute_result"
    }
   ],
   "source": [
    "# describe statistics of each data\n",
    "df_2016.describe().T"
   ]
  },
  {
   "cell_type": "code",
   "execution_count": 1322,
   "id": "9af06a8d-2d82-4784-961b-8105bf6c0b1d",
   "metadata": {},
   "outputs": [
    {
     "data": {
      "text/html": [
       "<div>\n",
       "<style scoped>\n",
       "    .dataframe tbody tr th:only-of-type {\n",
       "        vertical-align: middle;\n",
       "    }\n",
       "\n",
       "    .dataframe tbody tr th {\n",
       "        vertical-align: top;\n",
       "    }\n",
       "\n",
       "    .dataframe thead th {\n",
       "        text-align: right;\n",
       "    }\n",
       "</style>\n",
       "<table border=\"1\" class=\"dataframe\">\n",
       "  <thead>\n",
       "    <tr style=\"text-align: right;\">\n",
       "      <th></th>\n",
       "      <th>count</th>\n",
       "      <th>mean</th>\n",
       "      <th>std</th>\n",
       "      <th>min</th>\n",
       "      <th>25%</th>\n",
       "      <th>50%</th>\n",
       "      <th>75%</th>\n",
       "      <th>max</th>\n",
       "    </tr>\n",
       "  </thead>\n",
       "  <tbody>\n",
       "    <tr>\n",
       "      <th>Happiness.Rank</th>\n",
       "      <td>155.0</td>\n",
       "      <td>78.000000</td>\n",
       "      <td>44.888751</td>\n",
       "      <td>1.000000</td>\n",
       "      <td>39.500000</td>\n",
       "      <td>78.000000</td>\n",
       "      <td>116.500000</td>\n",
       "      <td>155.000000</td>\n",
       "    </tr>\n",
       "    <tr>\n",
       "      <th>Happiness.Score</th>\n",
       "      <td>155.0</td>\n",
       "      <td>5.354019</td>\n",
       "      <td>1.131230</td>\n",
       "      <td>2.693000</td>\n",
       "      <td>4.505500</td>\n",
       "      <td>5.279000</td>\n",
       "      <td>6.101500</td>\n",
       "      <td>7.537000</td>\n",
       "    </tr>\n",
       "    <tr>\n",
       "      <th>Whisker.high</th>\n",
       "      <td>155.0</td>\n",
       "      <td>5.452326</td>\n",
       "      <td>1.118542</td>\n",
       "      <td>2.864884</td>\n",
       "      <td>4.608172</td>\n",
       "      <td>5.370032</td>\n",
       "      <td>6.194600</td>\n",
       "      <td>7.622030</td>\n",
       "    </tr>\n",
       "    <tr>\n",
       "      <th>Whisker.low</th>\n",
       "      <td>155.0</td>\n",
       "      <td>5.255713</td>\n",
       "      <td>1.145030</td>\n",
       "      <td>2.521116</td>\n",
       "      <td>4.374955</td>\n",
       "      <td>5.193152</td>\n",
       "      <td>6.006527</td>\n",
       "      <td>7.479556</td>\n",
       "    </tr>\n",
       "    <tr>\n",
       "      <th>Economy..GDP.per.Capita.</th>\n",
       "      <td>155.0</td>\n",
       "      <td>0.984718</td>\n",
       "      <td>0.420793</td>\n",
       "      <td>0.000000</td>\n",
       "      <td>0.663371</td>\n",
       "      <td>1.064578</td>\n",
       "      <td>1.318027</td>\n",
       "      <td>1.870766</td>\n",
       "    </tr>\n",
       "    <tr>\n",
       "      <th>Family</th>\n",
       "      <td>155.0</td>\n",
       "      <td>1.188898</td>\n",
       "      <td>0.287263</td>\n",
       "      <td>0.000000</td>\n",
       "      <td>1.042635</td>\n",
       "      <td>1.253918</td>\n",
       "      <td>1.414316</td>\n",
       "      <td>1.610574</td>\n",
       "    </tr>\n",
       "    <tr>\n",
       "      <th>Health..Life.Expectancy.</th>\n",
       "      <td>155.0</td>\n",
       "      <td>0.551341</td>\n",
       "      <td>0.237073</td>\n",
       "      <td>0.000000</td>\n",
       "      <td>0.369866</td>\n",
       "      <td>0.606042</td>\n",
       "      <td>0.723008</td>\n",
       "      <td>0.949492</td>\n",
       "    </tr>\n",
       "    <tr>\n",
       "      <th>Freedom</th>\n",
       "      <td>155.0</td>\n",
       "      <td>0.408786</td>\n",
       "      <td>0.149997</td>\n",
       "      <td>0.000000</td>\n",
       "      <td>0.303677</td>\n",
       "      <td>0.437454</td>\n",
       "      <td>0.516561</td>\n",
       "      <td>0.658249</td>\n",
       "    </tr>\n",
       "    <tr>\n",
       "      <th>Generosity</th>\n",
       "      <td>155.0</td>\n",
       "      <td>0.246883</td>\n",
       "      <td>0.134780</td>\n",
       "      <td>0.000000</td>\n",
       "      <td>0.154106</td>\n",
       "      <td>0.231538</td>\n",
       "      <td>0.323762</td>\n",
       "      <td>0.838075</td>\n",
       "    </tr>\n",
       "    <tr>\n",
       "      <th>Trust..Government.Corruption.</th>\n",
       "      <td>155.0</td>\n",
       "      <td>0.123120</td>\n",
       "      <td>0.101661</td>\n",
       "      <td>0.000000</td>\n",
       "      <td>0.057271</td>\n",
       "      <td>0.089848</td>\n",
       "      <td>0.153296</td>\n",
       "      <td>0.464308</td>\n",
       "    </tr>\n",
       "    <tr>\n",
       "      <th>Dystopia.Residual</th>\n",
       "      <td>155.0</td>\n",
       "      <td>1.850238</td>\n",
       "      <td>0.500028</td>\n",
       "      <td>0.377914</td>\n",
       "      <td>1.591291</td>\n",
       "      <td>1.832910</td>\n",
       "      <td>2.144654</td>\n",
       "      <td>3.117485</td>\n",
       "    </tr>\n",
       "  </tbody>\n",
       "</table>\n",
       "</div>"
      ],
      "text/plain": [
       "                               count       mean        std       min  \\\n",
       "Happiness.Rank                 155.0  78.000000  44.888751  1.000000   \n",
       "Happiness.Score                155.0   5.354019   1.131230  2.693000   \n",
       "Whisker.high                   155.0   5.452326   1.118542  2.864884   \n",
       "Whisker.low                    155.0   5.255713   1.145030  2.521116   \n",
       "Economy..GDP.per.Capita.       155.0   0.984718   0.420793  0.000000   \n",
       "Family                         155.0   1.188898   0.287263  0.000000   \n",
       "Health..Life.Expectancy.       155.0   0.551341   0.237073  0.000000   \n",
       "Freedom                        155.0   0.408786   0.149997  0.000000   \n",
       "Generosity                     155.0   0.246883   0.134780  0.000000   \n",
       "Trust..Government.Corruption.  155.0   0.123120   0.101661  0.000000   \n",
       "Dystopia.Residual              155.0   1.850238   0.500028  0.377914   \n",
       "\n",
       "                                     25%        50%         75%         max  \n",
       "Happiness.Rank                 39.500000  78.000000  116.500000  155.000000  \n",
       "Happiness.Score                 4.505500   5.279000    6.101500    7.537000  \n",
       "Whisker.high                    4.608172   5.370032    6.194600    7.622030  \n",
       "Whisker.low                     4.374955   5.193152    6.006527    7.479556  \n",
       "Economy..GDP.per.Capita.        0.663371   1.064578    1.318027    1.870766  \n",
       "Family                          1.042635   1.253918    1.414316    1.610574  \n",
       "Health..Life.Expectancy.        0.369866   0.606042    0.723008    0.949492  \n",
       "Freedom                         0.303677   0.437454    0.516561    0.658249  \n",
       "Generosity                      0.154106   0.231538    0.323762    0.838075  \n",
       "Trust..Government.Corruption.   0.057271   0.089848    0.153296    0.464308  \n",
       "Dystopia.Residual               1.591291   1.832910    2.144654    3.117485  "
      ]
     },
     "execution_count": 1322,
     "metadata": {},
     "output_type": "execute_result"
    }
   ],
   "source": [
    "# describe statistics of each data\n",
    "df_2017.describe().T"
   ]
  },
  {
   "cell_type": "code",
   "execution_count": 1323,
   "id": "dc2ec268-7381-4c3c-9442-7a0212d4a0ab",
   "metadata": {},
   "outputs": [
    {
     "data": {
      "text/html": [
       "<div>\n",
       "<style scoped>\n",
       "    .dataframe tbody tr th:only-of-type {\n",
       "        vertical-align: middle;\n",
       "    }\n",
       "\n",
       "    .dataframe tbody tr th {\n",
       "        vertical-align: top;\n",
       "    }\n",
       "\n",
       "    .dataframe thead th {\n",
       "        text-align: right;\n",
       "    }\n",
       "</style>\n",
       "<table border=\"1\" class=\"dataframe\">\n",
       "  <thead>\n",
       "    <tr style=\"text-align: right;\">\n",
       "      <th></th>\n",
       "      <th>count</th>\n",
       "      <th>mean</th>\n",
       "      <th>std</th>\n",
       "      <th>min</th>\n",
       "      <th>25%</th>\n",
       "      <th>50%</th>\n",
       "      <th>75%</th>\n",
       "      <th>max</th>\n",
       "    </tr>\n",
       "  </thead>\n",
       "  <tbody>\n",
       "    <tr>\n",
       "      <th>Overall rank</th>\n",
       "      <td>156.0</td>\n",
       "      <td>78.500000</td>\n",
       "      <td>45.177428</td>\n",
       "      <td>1.000</td>\n",
       "      <td>39.75000</td>\n",
       "      <td>78.5000</td>\n",
       "      <td>117.25000</td>\n",
       "      <td>156.000</td>\n",
       "    </tr>\n",
       "    <tr>\n",
       "      <th>Score</th>\n",
       "      <td>156.0</td>\n",
       "      <td>5.375917</td>\n",
       "      <td>1.119506</td>\n",
       "      <td>2.905</td>\n",
       "      <td>4.45375</td>\n",
       "      <td>5.3780</td>\n",
       "      <td>6.16850</td>\n",
       "      <td>7.632</td>\n",
       "    </tr>\n",
       "    <tr>\n",
       "      <th>GDP per capita</th>\n",
       "      <td>156.0</td>\n",
       "      <td>0.891449</td>\n",
       "      <td>0.391921</td>\n",
       "      <td>0.000</td>\n",
       "      <td>0.61625</td>\n",
       "      <td>0.9495</td>\n",
       "      <td>1.19775</td>\n",
       "      <td>2.096</td>\n",
       "    </tr>\n",
       "    <tr>\n",
       "      <th>Social support</th>\n",
       "      <td>156.0</td>\n",
       "      <td>1.213237</td>\n",
       "      <td>0.302372</td>\n",
       "      <td>0.000</td>\n",
       "      <td>1.06675</td>\n",
       "      <td>1.2550</td>\n",
       "      <td>1.46300</td>\n",
       "      <td>1.644</td>\n",
       "    </tr>\n",
       "    <tr>\n",
       "      <th>Healthy life expectancy</th>\n",
       "      <td>156.0</td>\n",
       "      <td>0.597346</td>\n",
       "      <td>0.247579</td>\n",
       "      <td>0.000</td>\n",
       "      <td>0.42225</td>\n",
       "      <td>0.6440</td>\n",
       "      <td>0.77725</td>\n",
       "      <td>1.030</td>\n",
       "    </tr>\n",
       "    <tr>\n",
       "      <th>Freedom to make life choices</th>\n",
       "      <td>156.0</td>\n",
       "      <td>0.454506</td>\n",
       "      <td>0.162424</td>\n",
       "      <td>0.000</td>\n",
       "      <td>0.35600</td>\n",
       "      <td>0.4870</td>\n",
       "      <td>0.57850</td>\n",
       "      <td>0.724</td>\n",
       "    </tr>\n",
       "    <tr>\n",
       "      <th>Generosity</th>\n",
       "      <td>156.0</td>\n",
       "      <td>0.181006</td>\n",
       "      <td>0.098471</td>\n",
       "      <td>0.000</td>\n",
       "      <td>0.10950</td>\n",
       "      <td>0.1740</td>\n",
       "      <td>0.23900</td>\n",
       "      <td>0.598</td>\n",
       "    </tr>\n",
       "    <tr>\n",
       "      <th>Perceptions of corruption</th>\n",
       "      <td>155.0</td>\n",
       "      <td>0.112000</td>\n",
       "      <td>0.096492</td>\n",
       "      <td>0.000</td>\n",
       "      <td>0.05100</td>\n",
       "      <td>0.0820</td>\n",
       "      <td>0.13700</td>\n",
       "      <td>0.457</td>\n",
       "    </tr>\n",
       "  </tbody>\n",
       "</table>\n",
       "</div>"
      ],
      "text/plain": [
       "                              count       mean        std    min       25%  \\\n",
       "Overall rank                  156.0  78.500000  45.177428  1.000  39.75000   \n",
       "Score                         156.0   5.375917   1.119506  2.905   4.45375   \n",
       "GDP per capita                156.0   0.891449   0.391921  0.000   0.61625   \n",
       "Social support                156.0   1.213237   0.302372  0.000   1.06675   \n",
       "Healthy life expectancy       156.0   0.597346   0.247579  0.000   0.42225   \n",
       "Freedom to make life choices  156.0   0.454506   0.162424  0.000   0.35600   \n",
       "Generosity                    156.0   0.181006   0.098471  0.000   0.10950   \n",
       "Perceptions of corruption     155.0   0.112000   0.096492  0.000   0.05100   \n",
       "\n",
       "                                  50%        75%      max  \n",
       "Overall rank                  78.5000  117.25000  156.000  \n",
       "Score                          5.3780    6.16850    7.632  \n",
       "GDP per capita                 0.9495    1.19775    2.096  \n",
       "Social support                 1.2550    1.46300    1.644  \n",
       "Healthy life expectancy        0.6440    0.77725    1.030  \n",
       "Freedom to make life choices   0.4870    0.57850    0.724  \n",
       "Generosity                     0.1740    0.23900    0.598  \n",
       "Perceptions of corruption      0.0820    0.13700    0.457  "
      ]
     },
     "execution_count": 1323,
     "metadata": {},
     "output_type": "execute_result"
    }
   ],
   "source": [
    "# describe statistics of each data\n",
    "df_2018.describe().T"
   ]
  },
  {
   "cell_type": "code",
   "execution_count": 1324,
   "id": "5539afb6-b735-472b-babb-51bbc32737ac",
   "metadata": {},
   "outputs": [
    {
     "data": {
      "text/html": [
       "<div>\n",
       "<style scoped>\n",
       "    .dataframe tbody tr th:only-of-type {\n",
       "        vertical-align: middle;\n",
       "    }\n",
       "\n",
       "    .dataframe tbody tr th {\n",
       "        vertical-align: top;\n",
       "    }\n",
       "\n",
       "    .dataframe thead th {\n",
       "        text-align: right;\n",
       "    }\n",
       "</style>\n",
       "<table border=\"1\" class=\"dataframe\">\n",
       "  <thead>\n",
       "    <tr style=\"text-align: right;\">\n",
       "      <th></th>\n",
       "      <th>count</th>\n",
       "      <th>mean</th>\n",
       "      <th>std</th>\n",
       "      <th>min</th>\n",
       "      <th>25%</th>\n",
       "      <th>50%</th>\n",
       "      <th>75%</th>\n",
       "      <th>max</th>\n",
       "    </tr>\n",
       "  </thead>\n",
       "  <tbody>\n",
       "    <tr>\n",
       "      <th>Overall rank</th>\n",
       "      <td>156.0</td>\n",
       "      <td>78.500000</td>\n",
       "      <td>45.177428</td>\n",
       "      <td>1.000</td>\n",
       "      <td>39.75000</td>\n",
       "      <td>78.5000</td>\n",
       "      <td>117.25000</td>\n",
       "      <td>156.000</td>\n",
       "    </tr>\n",
       "    <tr>\n",
       "      <th>Score</th>\n",
       "      <td>156.0</td>\n",
       "      <td>5.407096</td>\n",
       "      <td>1.113120</td>\n",
       "      <td>2.853</td>\n",
       "      <td>4.54450</td>\n",
       "      <td>5.3795</td>\n",
       "      <td>6.18450</td>\n",
       "      <td>7.769</td>\n",
       "    </tr>\n",
       "    <tr>\n",
       "      <th>GDP per capita</th>\n",
       "      <td>156.0</td>\n",
       "      <td>0.905147</td>\n",
       "      <td>0.398389</td>\n",
       "      <td>0.000</td>\n",
       "      <td>0.60275</td>\n",
       "      <td>0.9600</td>\n",
       "      <td>1.23250</td>\n",
       "      <td>1.684</td>\n",
       "    </tr>\n",
       "    <tr>\n",
       "      <th>Social support</th>\n",
       "      <td>156.0</td>\n",
       "      <td>1.208814</td>\n",
       "      <td>0.299191</td>\n",
       "      <td>0.000</td>\n",
       "      <td>1.05575</td>\n",
       "      <td>1.2715</td>\n",
       "      <td>1.45250</td>\n",
       "      <td>1.624</td>\n",
       "    </tr>\n",
       "    <tr>\n",
       "      <th>Healthy life expectancy</th>\n",
       "      <td>156.0</td>\n",
       "      <td>0.725244</td>\n",
       "      <td>0.242124</td>\n",
       "      <td>0.000</td>\n",
       "      <td>0.54775</td>\n",
       "      <td>0.7890</td>\n",
       "      <td>0.88175</td>\n",
       "      <td>1.141</td>\n",
       "    </tr>\n",
       "    <tr>\n",
       "      <th>Freedom to make life choices</th>\n",
       "      <td>156.0</td>\n",
       "      <td>0.392571</td>\n",
       "      <td>0.143289</td>\n",
       "      <td>0.000</td>\n",
       "      <td>0.30800</td>\n",
       "      <td>0.4170</td>\n",
       "      <td>0.50725</td>\n",
       "      <td>0.631</td>\n",
       "    </tr>\n",
       "    <tr>\n",
       "      <th>Generosity</th>\n",
       "      <td>156.0</td>\n",
       "      <td>0.184846</td>\n",
       "      <td>0.095254</td>\n",
       "      <td>0.000</td>\n",
       "      <td>0.10875</td>\n",
       "      <td>0.1775</td>\n",
       "      <td>0.24825</td>\n",
       "      <td>0.566</td>\n",
       "    </tr>\n",
       "    <tr>\n",
       "      <th>Perceptions of corruption</th>\n",
       "      <td>156.0</td>\n",
       "      <td>0.110603</td>\n",
       "      <td>0.094538</td>\n",
       "      <td>0.000</td>\n",
       "      <td>0.04700</td>\n",
       "      <td>0.0855</td>\n",
       "      <td>0.14125</td>\n",
       "      <td>0.453</td>\n",
       "    </tr>\n",
       "  </tbody>\n",
       "</table>\n",
       "</div>"
      ],
      "text/plain": [
       "                              count       mean        std    min       25%  \\\n",
       "Overall rank                  156.0  78.500000  45.177428  1.000  39.75000   \n",
       "Score                         156.0   5.407096   1.113120  2.853   4.54450   \n",
       "GDP per capita                156.0   0.905147   0.398389  0.000   0.60275   \n",
       "Social support                156.0   1.208814   0.299191  0.000   1.05575   \n",
       "Healthy life expectancy       156.0   0.725244   0.242124  0.000   0.54775   \n",
       "Freedom to make life choices  156.0   0.392571   0.143289  0.000   0.30800   \n",
       "Generosity                    156.0   0.184846   0.095254  0.000   0.10875   \n",
       "Perceptions of corruption     156.0   0.110603   0.094538  0.000   0.04700   \n",
       "\n",
       "                                  50%        75%      max  \n",
       "Overall rank                  78.5000  117.25000  156.000  \n",
       "Score                          5.3795    6.18450    7.769  \n",
       "GDP per capita                 0.9600    1.23250    1.684  \n",
       "Social support                 1.2715    1.45250    1.624  \n",
       "Healthy life expectancy        0.7890    0.88175    1.141  \n",
       "Freedom to make life choices   0.4170    0.50725    0.631  \n",
       "Generosity                     0.1775    0.24825    0.566  \n",
       "Perceptions of corruption      0.0855    0.14125    0.453  "
      ]
     },
     "execution_count": 1324,
     "metadata": {},
     "output_type": "execute_result"
    }
   ],
   "source": [
    "# describe statistics of each data\n",
    "df_2019.describe().T"
   ]
  },
  {
   "cell_type": "code",
   "execution_count": 1325,
   "id": "8cfafa1b-3994-44bd-8d7d-c4f7e861416b",
   "metadata": {},
   "outputs": [
    {
     "data": {
      "text/plain": [
       "Index(['Country', 'Region', 'Happiness Rank', 'Happiness Score',\n",
       "       'Standard Error', 'Economy (GDP per Capita)', 'Family',\n",
       "       'Health (Life Expectancy)', 'Freedom', 'Trust (Government Corruption)',\n",
       "       'Generosity', 'Dystopia Residual'],\n",
       "      dtype='object')"
      ]
     },
     "execution_count": 1325,
     "metadata": {},
     "output_type": "execute_result"
    }
   ],
   "source": [
    "df_2015.columns"
   ]
  },
  {
   "cell_type": "code",
   "execution_count": 1326,
   "id": "158b5563-3fd8-4c55-b274-166db52b978e",
   "metadata": {},
   "outputs": [
    {
     "data": {
      "text/plain": [
       "Index(['Country', 'Region', 'Happiness Rank', 'Happiness Score',\n",
       "       'Lower Confidence Interval', 'Upper Confidence Interval',\n",
       "       'Economy (GDP per Capita)', 'Family', 'Health (Life Expectancy)',\n",
       "       'Freedom', 'Trust (Government Corruption)', 'Generosity',\n",
       "       'Dystopia Residual'],\n",
       "      dtype='object')"
      ]
     },
     "execution_count": 1326,
     "metadata": {},
     "output_type": "execute_result"
    }
   ],
   "source": [
    "df_2016.columns"
   ]
  },
  {
   "cell_type": "code",
   "execution_count": 1327,
   "id": "98fe9ab4-9874-406e-844b-1937df3c3810",
   "metadata": {},
   "outputs": [
    {
     "data": {
      "text/plain": [
       "Index(['Country', 'Happiness.Rank', 'Happiness.Score', 'Whisker.high',\n",
       "       'Whisker.low', 'Economy..GDP.per.Capita.', 'Family',\n",
       "       'Health..Life.Expectancy.', 'Freedom', 'Generosity',\n",
       "       'Trust..Government.Corruption.', 'Dystopia.Residual'],\n",
       "      dtype='object')"
      ]
     },
     "execution_count": 1327,
     "metadata": {},
     "output_type": "execute_result"
    }
   ],
   "source": [
    "df_2017.columns"
   ]
  },
  {
   "cell_type": "code",
   "execution_count": 1328,
   "id": "4a3856ab-bca0-450b-b1d8-9bbec93a2dae",
   "metadata": {},
   "outputs": [
    {
     "data": {
      "text/plain": [
       "Index(['Overall rank', 'Country or region', 'Score', 'GDP per capita',\n",
       "       'Social support', 'Healthy life expectancy',\n",
       "       'Freedom to make life choices', 'Generosity',\n",
       "       'Perceptions of corruption'],\n",
       "      dtype='object')"
      ]
     },
     "execution_count": 1328,
     "metadata": {},
     "output_type": "execute_result"
    }
   ],
   "source": [
    "df_2018.columns"
   ]
  },
  {
   "cell_type": "code",
   "execution_count": 1329,
   "id": "c56fea08-7bc4-44db-993d-1494b851147e",
   "metadata": {},
   "outputs": [
    {
     "data": {
      "text/plain": [
       "Index(['Overall rank', 'Country or region', 'Score', 'GDP per capita',\n",
       "       'Social support', 'Healthy life expectancy',\n",
       "       'Freedom to make life choices', 'Generosity',\n",
       "       'Perceptions of corruption'],\n",
       "      dtype='object')"
      ]
     },
     "execution_count": 1329,
     "metadata": {},
     "output_type": "execute_result"
    }
   ],
   "source": [
    "df_2019.columns"
   ]
  },
  {
   "cell_type": "markdown",
   "id": "834929aa-fd6a-4ec5-84d4-77c4b3c1a506",
   "metadata": {},
   "source": [
    "The process of profiling differs slightly for categorical and numerical variables due to their inherent differences.\n",
    "\n",
    "**The two main types of data are:**\n",
    "- Quantitative (numerical) data\n",
    "- Qualitative (categorical) data"
   ]
  },
  {
   "cell_type": "markdown",
   "id": "3a9954f5-6fbc-45b4-ad86-3e21b6e0ca2d",
   "metadata": {},
   "source": [
    "### Data Quality Checks\n",
    "Data quality checks involve the process of ensuring that the data is accurate, complete, consistent, relevant, and reliable. \n",
    "\n",
    "\n",
    "**Here are typical steps involved in checking data quality:**"
   ]
  },
  {
   "cell_type": "markdown",
   "id": "4818c876-173d-4e56-9e7d-b4334d2def25",
   "metadata": {},
   "source": [
    "#### 1. Reliability:\n",
    "Evaluate the data's source and collection process to determine its trustworthiness."
   ]
  },
  {
   "cell_type": "code",
   "execution_count": 1333,
   "id": "9034ae7b-dc1d-4cba-8f9e-bb499d021cde",
   "metadata": {},
   "outputs": [],
   "source": [
    "# its taken from Gallup World Poll, therefore it is reliable"
   ]
  },
  {
   "cell_type": "markdown",
   "id": "2ce0cc59-8c92-4acc-8d07-c40764e1a86b",
   "metadata": {},
   "source": [
    "#### 2. Timeliness: \n",
    "Ensure the data is up-to-date and reflective of the current situation or the period of interest for the analysis."
   ]
  },
  {
   "cell_type": "code",
   "execution_count": 1335,
   "id": "4b78ae35-7226-4cb6-b8b2-a46c2ed17cf9",
   "metadata": {},
   "outputs": [],
   "source": [
    "# its taken from 2015 to 2019"
   ]
  },
  {
   "cell_type": "markdown",
   "id": "7fab0fe2-6624-4615-b9d8-3c3669056bf8",
   "metadata": {},
   "source": [
    "#### 3. Consistency: \n",
    "\n",
    "Confirm that the data is consistent within the dataset and across multiple data sources. For example, the same data point should not have different values in different places.\n"
   ]
  },
  {
   "cell_type": "markdown",
   "id": "5a7888af-742f-4fcd-9243-1f79f922a3f0",
   "metadata": {},
   "source": [
    "##### to confirm that the data is consistant, we need to filter the similar columns in all years datasets"
   ]
  },
  {
   "cell_type": "markdown",
   "id": "728e18e4-e9ca-4e0e-ae9b-864b0cc7e276",
   "metadata": {},
   "source": [
    "<h2> let us rename the identical columns thats differ from other dataframes</h2>\n",
    "<em> as you can see above, df_2017, df_2018, df_2019 has similar columns to df_2015 and df_2016 but has a different names</em>"
   ]
  },
  {
   "cell_type": "code",
   "execution_count": 1339,
   "id": "d7a6013e-0775-4a18-8cd3-bc35b13794a4",
   "metadata": {},
   "outputs": [],
   "source": [
    "# rename each data\n",
    "df_2017_new_names = {\n",
    "    'Happiness.Rank':'Happiness Rank',\n",
    "    'Happiness.Score':'Happiness Score',\n",
    "    'Whisker.high':'Whisker high',\n",
    "    'Whisker.low':'Whisker low',\n",
    "    'Dystopia.Residual':'Dystopia Residual',\n",
    "    'Economy..GDP.per.Capita.':'Economy (GDP per Capita)',\n",
    "    'Health..Life.Expectancy.':'Health (Life Expectancy)',\n",
    "    'Trust..Government.Corruption.':'Trust (Government Corruption)'\n",
    "}\n",
    "\n",
    "df_2018_new_names = {\n",
    "'Score':'Happiness Score',\n",
    "'Overall rank':'Happiness Rank',\n",
    "'Country or region':'Country',\n",
    "'Healthy life expectancy':'Health (Life Expectancy)',\n",
    "'Freedom to make life choices':'Freedom',\n",
    "'GDP per capita':'Economy (GDP per Capita)'\n",
    "}\n",
    "\n",
    "\n",
    "df_2019_new_names = {\n",
    "'Score':'Happiness Score',\n",
    "'Overall rank':'Happiness Rank',\n",
    "'Country or region':'Country',\n",
    "'Healthy life expectancy':'Health (Life Expectancy)',\n",
    "'Freedom to make life choices':'Freedom',\n",
    "'GDP per capita':'Economy (GDP per Capita)'\n",
    "\n",
    "}\n",
    "\n",
    "# rename each data\n",
    "df_2017.rename(df_2017_new_names, axis=1, inplace=True)\n",
    "df_2018.rename(df_2018_new_names, axis=1, inplace=True)\n",
    "df_2019.rename(df_2019_new_names, axis=1, inplace=True)"
   ]
  },
  {
   "cell_type": "code",
   "execution_count": 1340,
   "id": "7fecc573-959f-4800-8ddd-a67985c68b18",
   "metadata": {},
   "outputs": [
    {
     "data": {
      "text/html": [
       "<div>\n",
       "<style scoped>\n",
       "    .dataframe tbody tr th:only-of-type {\n",
       "        vertical-align: middle;\n",
       "    }\n",
       "\n",
       "    .dataframe tbody tr th {\n",
       "        vertical-align: top;\n",
       "    }\n",
       "\n",
       "    .dataframe thead th {\n",
       "        text-align: right;\n",
       "    }\n",
       "</style>\n",
       "<table border=\"1\" class=\"dataframe\">\n",
       "  <thead>\n",
       "    <tr style=\"text-align: right;\">\n",
       "      <th></th>\n",
       "      <th>Country</th>\n",
       "      <th>Happiness Rank</th>\n",
       "      <th>Happiness Score</th>\n",
       "      <th>Whisker high</th>\n",
       "      <th>Whisker low</th>\n",
       "      <th>Economy (GDP per Capita)</th>\n",
       "      <th>Family</th>\n",
       "      <th>Health (Life Expectancy)</th>\n",
       "      <th>Freedom</th>\n",
       "      <th>Generosity</th>\n",
       "      <th>Trust (Government Corruption)</th>\n",
       "      <th>Dystopia Residual</th>\n",
       "    </tr>\n",
       "  </thead>\n",
       "  <tbody>\n",
       "    <tr>\n",
       "      <th>0</th>\n",
       "      <td>Norway</td>\n",
       "      <td>1</td>\n",
       "      <td>7.537</td>\n",
       "      <td>7.594445</td>\n",
       "      <td>7.479556</td>\n",
       "      <td>1.616463</td>\n",
       "      <td>1.533524</td>\n",
       "      <td>0.796667</td>\n",
       "      <td>0.635423</td>\n",
       "      <td>0.362012</td>\n",
       "      <td>0.315964</td>\n",
       "      <td>2.277027</td>\n",
       "    </tr>\n",
       "    <tr>\n",
       "      <th>1</th>\n",
       "      <td>Denmark</td>\n",
       "      <td>2</td>\n",
       "      <td>7.522</td>\n",
       "      <td>7.581728</td>\n",
       "      <td>7.462272</td>\n",
       "      <td>1.482383</td>\n",
       "      <td>1.551122</td>\n",
       "      <td>0.792566</td>\n",
       "      <td>0.626007</td>\n",
       "      <td>0.355280</td>\n",
       "      <td>0.400770</td>\n",
       "      <td>2.313707</td>\n",
       "    </tr>\n",
       "    <tr>\n",
       "      <th>2</th>\n",
       "      <td>Iceland</td>\n",
       "      <td>3</td>\n",
       "      <td>7.504</td>\n",
       "      <td>7.622030</td>\n",
       "      <td>7.385970</td>\n",
       "      <td>1.480633</td>\n",
       "      <td>1.610574</td>\n",
       "      <td>0.833552</td>\n",
       "      <td>0.627163</td>\n",
       "      <td>0.475540</td>\n",
       "      <td>0.153527</td>\n",
       "      <td>2.322715</td>\n",
       "    </tr>\n",
       "    <tr>\n",
       "      <th>3</th>\n",
       "      <td>Switzerland</td>\n",
       "      <td>4</td>\n",
       "      <td>7.494</td>\n",
       "      <td>7.561772</td>\n",
       "      <td>7.426227</td>\n",
       "      <td>1.564980</td>\n",
       "      <td>1.516912</td>\n",
       "      <td>0.858131</td>\n",
       "      <td>0.620071</td>\n",
       "      <td>0.290549</td>\n",
       "      <td>0.367007</td>\n",
       "      <td>2.276716</td>\n",
       "    </tr>\n",
       "    <tr>\n",
       "      <th>4</th>\n",
       "      <td>Finland</td>\n",
       "      <td>5</td>\n",
       "      <td>7.469</td>\n",
       "      <td>7.527542</td>\n",
       "      <td>7.410458</td>\n",
       "      <td>1.443572</td>\n",
       "      <td>1.540247</td>\n",
       "      <td>0.809158</td>\n",
       "      <td>0.617951</td>\n",
       "      <td>0.245483</td>\n",
       "      <td>0.382612</td>\n",
       "      <td>2.430182</td>\n",
       "    </tr>\n",
       "  </tbody>\n",
       "</table>\n",
       "</div>"
      ],
      "text/plain": [
       "       Country  Happiness Rank  Happiness Score  Whisker high  Whisker low  \\\n",
       "0       Norway               1            7.537      7.594445     7.479556   \n",
       "1      Denmark               2            7.522      7.581728     7.462272   \n",
       "2      Iceland               3            7.504      7.622030     7.385970   \n",
       "3  Switzerland               4            7.494      7.561772     7.426227   \n",
       "4      Finland               5            7.469      7.527542     7.410458   \n",
       "\n",
       "   Economy (GDP per Capita)    Family  Health (Life Expectancy)   Freedom  \\\n",
       "0                  1.616463  1.533524                  0.796667  0.635423   \n",
       "1                  1.482383  1.551122                  0.792566  0.626007   \n",
       "2                  1.480633  1.610574                  0.833552  0.627163   \n",
       "3                  1.564980  1.516912                  0.858131  0.620071   \n",
       "4                  1.443572  1.540247                  0.809158  0.617951   \n",
       "\n",
       "   Generosity  Trust (Government Corruption)  Dystopia Residual  \n",
       "0    0.362012                       0.315964           2.277027  \n",
       "1    0.355280                       0.400770           2.313707  \n",
       "2    0.475540                       0.153527           2.322715  \n",
       "3    0.290549                       0.367007           2.276716  \n",
       "4    0.245483                       0.382612           2.430182  "
      ]
     },
     "execution_count": 1340,
     "metadata": {},
     "output_type": "execute_result"
    }
   ],
   "source": [
    "df_2017.head()"
   ]
  },
  {
   "cell_type": "code",
   "execution_count": 1341,
   "id": "f8fb35e7-ecf7-46e7-8870-87258589fc40",
   "metadata": {},
   "outputs": [
    {
     "data": {
      "text/html": [
       "<div>\n",
       "<style scoped>\n",
       "    .dataframe tbody tr th:only-of-type {\n",
       "        vertical-align: middle;\n",
       "    }\n",
       "\n",
       "    .dataframe tbody tr th {\n",
       "        vertical-align: top;\n",
       "    }\n",
       "\n",
       "    .dataframe thead th {\n",
       "        text-align: right;\n",
       "    }\n",
       "</style>\n",
       "<table border=\"1\" class=\"dataframe\">\n",
       "  <thead>\n",
       "    <tr style=\"text-align: right;\">\n",
       "      <th></th>\n",
       "      <th>Happiness Rank</th>\n",
       "      <th>Country</th>\n",
       "      <th>Happiness Score</th>\n",
       "      <th>Economy (GDP per Capita)</th>\n",
       "      <th>Social support</th>\n",
       "      <th>Health (Life Expectancy)</th>\n",
       "      <th>Freedom</th>\n",
       "      <th>Generosity</th>\n",
       "      <th>Perceptions of corruption</th>\n",
       "    </tr>\n",
       "  </thead>\n",
       "  <tbody>\n",
       "    <tr>\n",
       "      <th>0</th>\n",
       "      <td>1</td>\n",
       "      <td>Finland</td>\n",
       "      <td>7.632</td>\n",
       "      <td>1.305</td>\n",
       "      <td>1.592</td>\n",
       "      <td>0.874</td>\n",
       "      <td>0.681</td>\n",
       "      <td>0.202</td>\n",
       "      <td>0.393</td>\n",
       "    </tr>\n",
       "    <tr>\n",
       "      <th>1</th>\n",
       "      <td>2</td>\n",
       "      <td>Norway</td>\n",
       "      <td>7.594</td>\n",
       "      <td>1.456</td>\n",
       "      <td>1.582</td>\n",
       "      <td>0.861</td>\n",
       "      <td>0.686</td>\n",
       "      <td>0.286</td>\n",
       "      <td>0.340</td>\n",
       "    </tr>\n",
       "    <tr>\n",
       "      <th>2</th>\n",
       "      <td>3</td>\n",
       "      <td>Denmark</td>\n",
       "      <td>7.555</td>\n",
       "      <td>1.351</td>\n",
       "      <td>1.590</td>\n",
       "      <td>0.868</td>\n",
       "      <td>0.683</td>\n",
       "      <td>0.284</td>\n",
       "      <td>0.408</td>\n",
       "    </tr>\n",
       "    <tr>\n",
       "      <th>3</th>\n",
       "      <td>4</td>\n",
       "      <td>Iceland</td>\n",
       "      <td>7.495</td>\n",
       "      <td>1.343</td>\n",
       "      <td>1.644</td>\n",
       "      <td>0.914</td>\n",
       "      <td>0.677</td>\n",
       "      <td>0.353</td>\n",
       "      <td>0.138</td>\n",
       "    </tr>\n",
       "    <tr>\n",
       "      <th>4</th>\n",
       "      <td>5</td>\n",
       "      <td>Switzerland</td>\n",
       "      <td>7.487</td>\n",
       "      <td>1.420</td>\n",
       "      <td>1.549</td>\n",
       "      <td>0.927</td>\n",
       "      <td>0.660</td>\n",
       "      <td>0.256</td>\n",
       "      <td>0.357</td>\n",
       "    </tr>\n",
       "  </tbody>\n",
       "</table>\n",
       "</div>"
      ],
      "text/plain": [
       "   Happiness Rank      Country  Happiness Score  Economy (GDP per Capita)  \\\n",
       "0               1      Finland            7.632                     1.305   \n",
       "1               2       Norway            7.594                     1.456   \n",
       "2               3      Denmark            7.555                     1.351   \n",
       "3               4      Iceland            7.495                     1.343   \n",
       "4               5  Switzerland            7.487                     1.420   \n",
       "\n",
       "   Social support  Health (Life Expectancy)  Freedom  Generosity  \\\n",
       "0           1.592                     0.874    0.681       0.202   \n",
       "1           1.582                     0.861    0.686       0.286   \n",
       "2           1.590                     0.868    0.683       0.284   \n",
       "3           1.644                     0.914    0.677       0.353   \n",
       "4           1.549                     0.927    0.660       0.256   \n",
       "\n",
       "   Perceptions of corruption  \n",
       "0                      0.393  \n",
       "1                      0.340  \n",
       "2                      0.408  \n",
       "3                      0.138  \n",
       "4                      0.357  "
      ]
     },
     "execution_count": 1341,
     "metadata": {},
     "output_type": "execute_result"
    }
   ],
   "source": [
    "df_2018.head()"
   ]
  },
  {
   "cell_type": "code",
   "execution_count": 1342,
   "id": "500b00f6-feb4-434c-ae76-e1cb02e50046",
   "metadata": {},
   "outputs": [
    {
     "data": {
      "text/html": [
       "<div>\n",
       "<style scoped>\n",
       "    .dataframe tbody tr th:only-of-type {\n",
       "        vertical-align: middle;\n",
       "    }\n",
       "\n",
       "    .dataframe tbody tr th {\n",
       "        vertical-align: top;\n",
       "    }\n",
       "\n",
       "    .dataframe thead th {\n",
       "        text-align: right;\n",
       "    }\n",
       "</style>\n",
       "<table border=\"1\" class=\"dataframe\">\n",
       "  <thead>\n",
       "    <tr style=\"text-align: right;\">\n",
       "      <th></th>\n",
       "      <th>Happiness Rank</th>\n",
       "      <th>Country</th>\n",
       "      <th>Happiness Score</th>\n",
       "      <th>Economy (GDP per Capita)</th>\n",
       "      <th>Social support</th>\n",
       "      <th>Health (Life Expectancy)</th>\n",
       "      <th>Freedom</th>\n",
       "      <th>Generosity</th>\n",
       "      <th>Perceptions of corruption</th>\n",
       "    </tr>\n",
       "  </thead>\n",
       "  <tbody>\n",
       "    <tr>\n",
       "      <th>0</th>\n",
       "      <td>1</td>\n",
       "      <td>Finland</td>\n",
       "      <td>7.769</td>\n",
       "      <td>1.340</td>\n",
       "      <td>1.587</td>\n",
       "      <td>0.986</td>\n",
       "      <td>0.596</td>\n",
       "      <td>0.153</td>\n",
       "      <td>0.393</td>\n",
       "    </tr>\n",
       "    <tr>\n",
       "      <th>1</th>\n",
       "      <td>2</td>\n",
       "      <td>Denmark</td>\n",
       "      <td>7.600</td>\n",
       "      <td>1.383</td>\n",
       "      <td>1.573</td>\n",
       "      <td>0.996</td>\n",
       "      <td>0.592</td>\n",
       "      <td>0.252</td>\n",
       "      <td>0.410</td>\n",
       "    </tr>\n",
       "    <tr>\n",
       "      <th>2</th>\n",
       "      <td>3</td>\n",
       "      <td>Norway</td>\n",
       "      <td>7.554</td>\n",
       "      <td>1.488</td>\n",
       "      <td>1.582</td>\n",
       "      <td>1.028</td>\n",
       "      <td>0.603</td>\n",
       "      <td>0.271</td>\n",
       "      <td>0.341</td>\n",
       "    </tr>\n",
       "    <tr>\n",
       "      <th>3</th>\n",
       "      <td>4</td>\n",
       "      <td>Iceland</td>\n",
       "      <td>7.494</td>\n",
       "      <td>1.380</td>\n",
       "      <td>1.624</td>\n",
       "      <td>1.026</td>\n",
       "      <td>0.591</td>\n",
       "      <td>0.354</td>\n",
       "      <td>0.118</td>\n",
       "    </tr>\n",
       "    <tr>\n",
       "      <th>4</th>\n",
       "      <td>5</td>\n",
       "      <td>Netherlands</td>\n",
       "      <td>7.488</td>\n",
       "      <td>1.396</td>\n",
       "      <td>1.522</td>\n",
       "      <td>0.999</td>\n",
       "      <td>0.557</td>\n",
       "      <td>0.322</td>\n",
       "      <td>0.298</td>\n",
       "    </tr>\n",
       "  </tbody>\n",
       "</table>\n",
       "</div>"
      ],
      "text/plain": [
       "   Happiness Rank      Country  Happiness Score  Economy (GDP per Capita)  \\\n",
       "0               1      Finland            7.769                     1.340   \n",
       "1               2      Denmark            7.600                     1.383   \n",
       "2               3       Norway            7.554                     1.488   \n",
       "3               4      Iceland            7.494                     1.380   \n",
       "4               5  Netherlands            7.488                     1.396   \n",
       "\n",
       "   Social support  Health (Life Expectancy)  Freedom  Generosity  \\\n",
       "0           1.587                     0.986    0.596       0.153   \n",
       "1           1.573                     0.996    0.592       0.252   \n",
       "2           1.582                     1.028    0.603       0.271   \n",
       "3           1.624                     1.026    0.591       0.354   \n",
       "4           1.522                     0.999    0.557       0.322   \n",
       "\n",
       "   Perceptions of corruption  \n",
       "0                      0.393  \n",
       "1                      0.410  \n",
       "2                      0.341  \n",
       "3                      0.118  \n",
       "4                      0.298  "
      ]
     },
     "execution_count": 1342,
     "metadata": {},
     "output_type": "execute_result"
    }
   ],
   "source": [
    "df_2019.head()"
   ]
  },
  {
   "cell_type": "code",
   "execution_count": 1343,
   "id": "c0f25e6e-83ac-4a7d-b9a3-3a2489d7f8c1",
   "metadata": {},
   "outputs": [
    {
     "data": {
      "text/plain": [
       "{'Country',\n",
       " 'Economy (GDP per Capita)',\n",
       " 'Freedom',\n",
       " 'Generosity',\n",
       " 'Happiness Rank',\n",
       " 'Happiness Score',\n",
       " 'Health (Life Expectancy)'}"
      ]
     },
     "execution_count": 1343,
     "metadata": {},
     "output_type": "execute_result"
    }
   ],
   "source": [
    "# to filter similar columns, we will use intersection method provided by pandas\n",
    "\n",
    "# List of DataFrames\n",
    "dataframes = [df_2015, df_2016, df_2017, df_2018, df_2019]\n",
    "\n",
    "# Find common columns using intersection\n",
    "common_columns = set.intersection(*[set(df.columns) for df in dataframes])\n",
    "\n",
    "# print common columns\n",
    "common_columns"
   ]
  },
  {
   "cell_type": "code",
   "execution_count": 1344,
   "id": "05072dbb-3608-41e2-8f79-2b61ab8dc600",
   "metadata": {},
   "outputs": [
    {
     "name": "stdout",
     "output_type": "stream",
     "text": [
      "Column: Happiness Score\n",
      "  - Dataframe: df_2015 - Data type: float64\n",
      "  - Dataframe: df_2016 - Data type: float64\n",
      "  - Dataframe: df_2017 - Data type: float64\n",
      "  - Dataframe: df_2018 - Data type: float64\n",
      "  - Dataframe: df_2019 - Data type: float64\n",
      "Column: Generosity\n",
      "  - Dataframe: df_2015 - Data type: float64\n",
      "  - Dataframe: df_2016 - Data type: float64\n",
      "  - Dataframe: df_2017 - Data type: float64\n",
      "  - Dataframe: df_2018 - Data type: float64\n",
      "  - Dataframe: df_2019 - Data type: float64\n",
      "Column: Happiness Rank\n",
      "  - Dataframe: df_2015 - Data type: int64\n",
      "  - Dataframe: df_2016 - Data type: int64\n",
      "  - Dataframe: df_2017 - Data type: int64\n",
      "  - Dataframe: df_2018 - Data type: int64\n",
      "  - Dataframe: df_2019 - Data type: int64\n",
      "Column: Freedom\n",
      "  - Dataframe: df_2015 - Data type: float64\n",
      "  - Dataframe: df_2016 - Data type: float64\n",
      "  - Dataframe: df_2017 - Data type: float64\n",
      "  - Dataframe: df_2018 - Data type: float64\n",
      "  - Dataframe: df_2019 - Data type: float64\n",
      "Column: Economy (GDP per Capita)\n",
      "  - Dataframe: df_2015 - Data type: float64\n",
      "  - Dataframe: df_2016 - Data type: float64\n",
      "  - Dataframe: df_2017 - Data type: float64\n",
      "  - Dataframe: df_2018 - Data type: float64\n",
      "  - Dataframe: df_2019 - Data type: float64\n",
      "Column: Country\n",
      "  - Dataframe: df_2015 - Data type: object\n",
      "  - Dataframe: df_2016 - Data type: object\n",
      "  - Dataframe: df_2017 - Data type: object\n",
      "  - Dataframe: df_2018 - Data type: object\n",
      "  - Dataframe: df_2019 - Data type: object\n",
      "Column: Health (Life Expectancy)\n",
      "  - Dataframe: df_2015 - Data type: float64\n",
      "  - Dataframe: df_2016 - Data type: float64\n",
      "  - Dataframe: df_2017 - Data type: float64\n",
      "  - Dataframe: df_2018 - Data type: float64\n",
      "  - Dataframe: df_2019 - Data type: float64\n"
     ]
    }
   ],
   "source": [
    "# now we should check their values and datatype to confirm their consistency\n",
    "\n",
    "# Create a dictionary to map dataframe names to actual dataframes\n",
    "dataframes = {\n",
    "    'df_2015': df_2015,\n",
    "    'df_2016': df_2016,\n",
    "    'df_2017': df_2017,\n",
    "    'df_2018': df_2018,\n",
    "    'df_2019': df_2019\n",
    "}\n",
    "\n",
    "# Check data types and consistency for common columns across dataframes\n",
    "for column in common_columns:\n",
    "    print(f\"Column: {column}\")\n",
    "    for df_name, df in dataframes.items():\n",
    "        if column in df.columns:\n",
    "            print(f\"  - Dataframe: {df_name} - Data type: {df[column].dtype}\")\n"
   ]
  },
  {
   "cell_type": "code",
   "execution_count": 1345,
   "id": "fdf63b5a-6131-4bcd-a9ed-5fb1dc51fc7b",
   "metadata": {},
   "outputs": [],
   "source": [
    "# "
   ]
  },
  {
   "cell_type": "markdown",
   "id": "bec3d183-bba0-4b12-b963-487daab1e876",
   "metadata": {},
   "source": [
    "#### 4. Relevance: \n",
    "Assess whether the data is appropriate and applicable for the intended analysis. Data that is not relevant can skew results and lead to incorrect conclusions.\n",
    "\n",
    "**Key considerations for relevance include:**\n",
    "\n",
    "> 1. Sample Appropriateness: Confirm that your data sample aligns with your analysis objectives. For instance, utilizing data from the Northern region will not yield accurate insights for the Western region of the Kingdom.\n",
    ">\n",
    "> 2. Variable Selection: Any column will not be relevant for our analysis, we can get rid of these using the drop() method. We will set the “axis” argument to 1 since we’re dealing with columns, and set the “inplace” argument to True to make the change permanent.\n"
   ]
  },
  {
   "cell_type": "markdown",
   "id": "ce34ee42-bb6f-47c4-8b37-6b94c2d2ebba",
   "metadata": {
    "scrolled": true
   },
   "source": [
    "<h3>\n",
    "    as kaggle data card explained,\n",
    "    the six happiness factors are:</h3>\n",
    "    <ol>\n",
    "        <li>Family</li>\n",
    "        <li>GDP per Capita</li>\n",
    "        <li>Life expectency</li>\n",
    "        <li>Freedom</li>\n",
    "        <li>Generosity</li>\n",
    "        <li>Trust Government Corruption</li>\n",
    "    </ol>\n",
    "<em>Therefore, any other factor is not relevent to the study</em>"
   ]
  },
  {
   "cell_type": "code",
   "execution_count": 1348,
   "id": "55c99d27-5c7f-4cb9-b5d0-683a353b9180",
   "metadata": {},
   "outputs": [],
   "source": [
    "# go to clean step"
   ]
  },
  {
   "cell_type": "markdown",
   "id": "2c5c23d9-646d-4867-8980-d90e7230853c",
   "metadata": {},
   "source": [
    "<h2>After we have dealed with inconsistencies and dropped unrelevent columns, we now will concat all 3 dataframes together and then deal with the missing values</h2>\n",
    "<em>since there are some columns that are not in other dataframes and it is risky to remove these columns, we will use full outer join</em>"
   ]
  },
  {
   "cell_type": "code",
   "execution_count": 1350,
   "id": "5579cf29-c9a4-479b-aa9b-37af3de2a597",
   "metadata": {},
   "outputs": [
    {
     "data": {
      "text/plain": [
       "158"
      ]
     },
     "execution_count": 1350,
     "metadata": {},
     "output_type": "execute_result"
    }
   ],
   "source": [
    "len(df_2015)"
   ]
  },
  {
   "cell_type": "code",
   "execution_count": 1351,
   "id": "f9eac02b-628c-43a4-a3c8-7089a75545e4",
   "metadata": {},
   "outputs": [
    {
     "data": {
      "text/plain": [
       "157"
      ]
     },
     "execution_count": 1351,
     "metadata": {},
     "output_type": "execute_result"
    }
   ],
   "source": [
    "len(df_2016)"
   ]
  },
  {
   "cell_type": "code",
   "execution_count": 1352,
   "id": "3c370cad-85bf-46a1-b5f0-ade924fb0ae8",
   "metadata": {},
   "outputs": [
    {
     "data": {
      "text/plain": [
       "155"
      ]
     },
     "execution_count": 1352,
     "metadata": {},
     "output_type": "execute_result"
    }
   ],
   "source": [
    "len(df_2017)"
   ]
  },
  {
   "cell_type": "code",
   "execution_count": 1353,
   "id": "17665112-5570-4bf2-9349-0fb4aa1f83ea",
   "metadata": {},
   "outputs": [
    {
     "data": {
      "text/plain": [
       "156"
      ]
     },
     "execution_count": 1353,
     "metadata": {},
     "output_type": "execute_result"
    }
   ],
   "source": [
    "len(df_2018)"
   ]
  },
  {
   "cell_type": "code",
   "execution_count": 1354,
   "id": "f665e54a-23aa-4cd9-a3cf-1f7139c2d300",
   "metadata": {},
   "outputs": [
    {
     "data": {
      "text/plain": [
       "156"
      ]
     },
     "execution_count": 1354,
     "metadata": {},
     "output_type": "execute_result"
    }
   ],
   "source": [
    "len(df_2019)"
   ]
  },
  {
   "cell_type": "code",
   "execution_count": 1355,
   "id": "ffb91ab3-aa7d-4602-b3d6-857b7d30da52",
   "metadata": {},
   "outputs": [],
   "source": [
    "df_2015['Year_2015'] = '2015'\n",
    "df_2016['Year_2016'] = '2016'\n",
    "df_2017['Year_2017'] = '2017'\n",
    "df_2018['Year_2018'] = '2018'\n",
    "df_2019['Year_2019'] = '2019'"
   ]
  },
  {
   "cell_type": "code",
   "execution_count": 1356,
   "id": "8d67f8ff-dbb6-420b-b3e6-7992caf1357e",
   "metadata": {},
   "outputs": [
    {
     "data": {
      "text/html": [
       "<div>\n",
       "<style scoped>\n",
       "    .dataframe tbody tr th:only-of-type {\n",
       "        vertical-align: middle;\n",
       "    }\n",
       "\n",
       "    .dataframe tbody tr th {\n",
       "        vertical-align: top;\n",
       "    }\n",
       "\n",
       "    .dataframe thead th {\n",
       "        text-align: right;\n",
       "    }\n",
       "</style>\n",
       "<table border=\"1\" class=\"dataframe\">\n",
       "  <thead>\n",
       "    <tr style=\"text-align: right;\">\n",
       "      <th></th>\n",
       "      <th>Country</th>\n",
       "      <th>Region</th>\n",
       "      <th>Happiness Rank</th>\n",
       "      <th>Happiness Score</th>\n",
       "      <th>Standard Error</th>\n",
       "      <th>Economy (GDP per Capita)</th>\n",
       "      <th>Family</th>\n",
       "      <th>Health (Life Expectancy)</th>\n",
       "      <th>Freedom</th>\n",
       "      <th>Trust (Government Corruption)</th>\n",
       "      <th>Generosity</th>\n",
       "      <th>Dystopia Residual</th>\n",
       "      <th>Year_2015</th>\n",
       "    </tr>\n",
       "  </thead>\n",
       "  <tbody>\n",
       "    <tr>\n",
       "      <th>0</th>\n",
       "      <td>Switzerland</td>\n",
       "      <td>Western Europe</td>\n",
       "      <td>1</td>\n",
       "      <td>7.587</td>\n",
       "      <td>0.03411</td>\n",
       "      <td>1.39651</td>\n",
       "      <td>1.34951</td>\n",
       "      <td>0.94143</td>\n",
       "      <td>0.66557</td>\n",
       "      <td>0.41978</td>\n",
       "      <td>0.29678</td>\n",
       "      <td>2.51738</td>\n",
       "      <td>2015</td>\n",
       "    </tr>\n",
       "    <tr>\n",
       "      <th>1</th>\n",
       "      <td>Iceland</td>\n",
       "      <td>Western Europe</td>\n",
       "      <td>2</td>\n",
       "      <td>7.561</td>\n",
       "      <td>0.04884</td>\n",
       "      <td>1.30232</td>\n",
       "      <td>1.40223</td>\n",
       "      <td>0.94784</td>\n",
       "      <td>0.62877</td>\n",
       "      <td>0.14145</td>\n",
       "      <td>0.43630</td>\n",
       "      <td>2.70201</td>\n",
       "      <td>2015</td>\n",
       "    </tr>\n",
       "    <tr>\n",
       "      <th>2</th>\n",
       "      <td>Denmark</td>\n",
       "      <td>Western Europe</td>\n",
       "      <td>3</td>\n",
       "      <td>7.527</td>\n",
       "      <td>0.03328</td>\n",
       "      <td>1.32548</td>\n",
       "      <td>1.36058</td>\n",
       "      <td>0.87464</td>\n",
       "      <td>0.64938</td>\n",
       "      <td>0.48357</td>\n",
       "      <td>0.34139</td>\n",
       "      <td>2.49204</td>\n",
       "      <td>2015</td>\n",
       "    </tr>\n",
       "    <tr>\n",
       "      <th>3</th>\n",
       "      <td>Norway</td>\n",
       "      <td>Western Europe</td>\n",
       "      <td>4</td>\n",
       "      <td>7.522</td>\n",
       "      <td>0.03880</td>\n",
       "      <td>1.45900</td>\n",
       "      <td>1.33095</td>\n",
       "      <td>0.88521</td>\n",
       "      <td>0.66973</td>\n",
       "      <td>0.36503</td>\n",
       "      <td>0.34699</td>\n",
       "      <td>2.46531</td>\n",
       "      <td>2015</td>\n",
       "    </tr>\n",
       "    <tr>\n",
       "      <th>4</th>\n",
       "      <td>Canada</td>\n",
       "      <td>North America</td>\n",
       "      <td>5</td>\n",
       "      <td>7.427</td>\n",
       "      <td>0.03553</td>\n",
       "      <td>1.32629</td>\n",
       "      <td>1.32261</td>\n",
       "      <td>0.90563</td>\n",
       "      <td>0.63297</td>\n",
       "      <td>0.32957</td>\n",
       "      <td>0.45811</td>\n",
       "      <td>2.45176</td>\n",
       "      <td>2015</td>\n",
       "    </tr>\n",
       "  </tbody>\n",
       "</table>\n",
       "</div>"
      ],
      "text/plain": [
       "       Country          Region  Happiness Rank  Happiness Score  \\\n",
       "0  Switzerland  Western Europe               1            7.587   \n",
       "1      Iceland  Western Europe               2            7.561   \n",
       "2      Denmark  Western Europe               3            7.527   \n",
       "3       Norway  Western Europe               4            7.522   \n",
       "4       Canada   North America               5            7.427   \n",
       "\n",
       "   Standard Error  Economy (GDP per Capita)   Family  \\\n",
       "0         0.03411                   1.39651  1.34951   \n",
       "1         0.04884                   1.30232  1.40223   \n",
       "2         0.03328                   1.32548  1.36058   \n",
       "3         0.03880                   1.45900  1.33095   \n",
       "4         0.03553                   1.32629  1.32261   \n",
       "\n",
       "   Health (Life Expectancy)  Freedom  Trust (Government Corruption)  \\\n",
       "0                   0.94143  0.66557                        0.41978   \n",
       "1                   0.94784  0.62877                        0.14145   \n",
       "2                   0.87464  0.64938                        0.48357   \n",
       "3                   0.88521  0.66973                        0.36503   \n",
       "4                   0.90563  0.63297                        0.32957   \n",
       "\n",
       "   Generosity  Dystopia Residual Year_2015  \n",
       "0     0.29678            2.51738      2015  \n",
       "1     0.43630            2.70201      2015  \n",
       "2     0.34139            2.49204      2015  \n",
       "3     0.34699            2.46531      2015  \n",
       "4     0.45811            2.45176      2015  "
      ]
     },
     "execution_count": 1356,
     "metadata": {},
     "output_type": "execute_result"
    }
   ],
   "source": [
    "df_2015.head()"
   ]
  },
  {
   "cell_type": "markdown",
   "id": "0f5e3a2a-bbb7-4d06-8220-c93277b70146",
   "metadata": {},
   "source": [
    "#### 5. Uniqueness: \n",
    "Check for and remove duplicate records to prevent skewed analysis results.\n"
   ]
  },
  {
   "cell_type": "code",
   "execution_count": 1358,
   "id": "81fb2fda-fcbc-48cb-9fc2-846115925366",
   "metadata": {},
   "outputs": [
    {
     "name": "stdout",
     "output_type": "stream",
     "text": [
      "{'df_2015'} 0\n",
      "{'df_2016'} 0\n",
      "{'df_2017'} 0\n",
      "{'df_2018'} 0\n",
      "{'df_2019'} 0\n"
     ]
    }
   ],
   "source": [
    "# check duplication in each data\n",
    "\n",
    "for df_name, df in dataframes.items():\n",
    " print({df_name}, df.duplicated().sum())"
   ]
  },
  {
   "cell_type": "code",
   "execution_count": 1359,
   "id": "04c62559-3b48-48cf-a4e9-857e2e0ff416",
   "metadata": {},
   "outputs": [],
   "source": [
    "# there are no duplicated rows"
   ]
  },
  {
   "cell_type": "markdown",
   "id": "c7724ac2-4ea2-4cf4-a9e0-e64368f87b92",
   "metadata": {},
   "source": [
    "#### 6. Completeness: \n",
    "Ensure that no critical data is missing. This might mean checking for null values or required fields that are empty.\n",
    "\n",
    "We will start by checking the dataset for missing or null values. For this, we can use the isna() method which returns a dataframe of boolean values indicating if a field is null or not. To group all missing values by column, we can include the sum() method."
   ]
  },
  {
   "cell_type": "code",
   "execution_count": 1361,
   "id": "48a4de54-a344-4b94-9908-9528c15c13f7",
   "metadata": {},
   "outputs": [
    {
     "name": "stdout",
     "output_type": "stream",
     "text": [
      "========================================\n",
      " DataFrame: df_2015\n",
      "----------------------------------------\n",
      "Missing Values Summary:\n",
      "\n",
      "Country                          0\n",
      "Region                           0\n",
      "Happiness Rank                   0\n",
      "Happiness Score                  0\n",
      "Standard Error                   0\n",
      "Economy (GDP per Capita)         0\n",
      "Family                           0\n",
      "Health (Life Expectancy)         0\n",
      "Freedom                          0\n",
      "Trust (Government Corruption)    0\n",
      "Generosity                       0\n",
      "Dystopia Residual                0\n",
      "Year_2015                        0\n",
      "dtype: int64\n",
      "========================================\n",
      "\n",
      "========================================\n",
      " DataFrame: df_2016\n",
      "----------------------------------------\n",
      "Missing Values Summary:\n",
      "\n",
      "Country                          0\n",
      "Region                           0\n",
      "Happiness Rank                   0\n",
      "Happiness Score                  0\n",
      "Lower Confidence Interval        0\n",
      "Upper Confidence Interval        0\n",
      "Economy (GDP per Capita)         0\n",
      "Family                           0\n",
      "Health (Life Expectancy)         0\n",
      "Freedom                          0\n",
      "Trust (Government Corruption)    0\n",
      "Generosity                       0\n",
      "Dystopia Residual                0\n",
      "Year_2016                        0\n",
      "dtype: int64\n",
      "========================================\n",
      "\n",
      "========================================\n",
      " DataFrame: df_2017\n",
      "----------------------------------------\n",
      "Missing Values Summary:\n",
      "\n",
      "Country                          0\n",
      "Happiness Rank                   0\n",
      "Happiness Score                  0\n",
      "Whisker high                     0\n",
      "Whisker low                      0\n",
      "Economy (GDP per Capita)         0\n",
      "Family                           0\n",
      "Health (Life Expectancy)         0\n",
      "Freedom                          0\n",
      "Generosity                       0\n",
      "Trust (Government Corruption)    0\n",
      "Dystopia Residual                0\n",
      "Year_2017                        0\n",
      "dtype: int64\n",
      "========================================\n",
      "\n",
      "========================================\n",
      " DataFrame: df_2018\n",
      "----------------------------------------\n",
      "Missing Values Summary:\n",
      "\n",
      "Perceptions of corruption    1\n",
      "Happiness Rank               0\n",
      "Country                      0\n",
      "Happiness Score              0\n",
      "Economy (GDP per Capita)     0\n",
      "Social support               0\n",
      "Health (Life Expectancy)     0\n",
      "Freedom                      0\n",
      "Generosity                   0\n",
      "Year_2018                    0\n",
      "dtype: int64\n",
      "========================================\n",
      "\n",
      "========================================\n",
      " DataFrame: df_2019\n",
      "----------------------------------------\n",
      "Missing Values Summary:\n",
      "\n",
      "Happiness Rank               0\n",
      "Country                      0\n",
      "Happiness Score              0\n",
      "Economy (GDP per Capita)     0\n",
      "Social support               0\n",
      "Health (Life Expectancy)     0\n",
      "Freedom                      0\n",
      "Generosity                   0\n",
      "Perceptions of corruption    0\n",
      "Year_2019                    0\n",
      "dtype: int64\n",
      "========================================\n",
      "\n"
     ]
    }
   ],
   "source": [
    "# check  number missing values in each data\n",
    "for df_name, df in dataframes.items():\n",
    "    print(f\"{'='*40}\")\n",
    "    print(f\" DataFrame: {df_name}\")\n",
    "    print(f\"{'-'*40}\")\n",
    "    print(\"Missing Values Summary:\\n\")\n",
    "    print(df.isnull().sum().sort_values(ascending=False))\n",
    "    print(f\"{'='*40}\\n\")\n"
   ]
  },
  {
   "cell_type": "markdown",
   "id": "77c77ace-ae4c-474f-8f25-10d947f60637",
   "metadata": {},
   "source": [
    "<p>We will use an imputation with a constant value for the following reasons:</p>\n",
    "<ol>\n",
    "    <li>Year null values has no effect on result if we replace missing values with a constant since each row has its own information with the relevant year</li>\n",
    "    <li>Standard Error is not one of the six happiness factors so if we replace missing values with a constant, it does not effect on result</li>\n",
    "</ol>"
   ]
  },
  {
   "cell_type": "code",
   "execution_count": 1363,
   "id": "e957a830-8dca-48ec-80e3-3a4377cc3a2c",
   "metadata": {},
   "outputs": [],
   "source": [
    "# go to clean data"
   ]
  },
  {
   "cell_type": "markdown",
   "id": "b40de63c-5a1d-49ed-a87e-c5229ee08bbe",
   "metadata": {},
   "source": [
    "#### 7. Check Accuracy:\n",
    "\n",
    "Verify that the data is correct and precise. This could involve comparing data samples with known sources or using validation rules.\n",
    "\n",
    "**The process includes:**\n",
    "1. Validating the appropriateness of data types for the dataset.\n",
    "2. Identifying outliers  using established validation  rule"
   ]
  },
  {
   "cell_type": "code",
   "execution_count": 1365,
   "id": "68be5334-ae10-4abd-8097-3259fe5e72c8",
   "metadata": {},
   "outputs": [],
   "source": [
    "# check columns types "
   ]
  },
  {
   "cell_type": "code",
   "execution_count": 1366,
   "id": "2ee790ba-dcc0-45f1-b6f8-0133e913e149",
   "metadata": {},
   "outputs": [],
   "source": [
    "# go to clean them "
   ]
  },
  {
   "cell_type": "code",
   "execution_count": 1367,
   "id": "4e66d611-6958-4860-8522-9ada7fce40b0",
   "metadata": {},
   "outputs": [],
   "source": [
    "# go to delete ouliers"
   ]
  },
  {
   "attachments": {},
   "cell_type": "markdown",
   "id": "4e886ec7-388c-414b-ada7-803c2fb1f2cb",
   "metadata": {},
   "source": [
    "## 2. Data Cleaning: \n",
    "\n",
    "Preliminary findings from data profiling can lead to cleaning the data by:\n",
    "- Handling missing values\n",
    "- Correcting errors.\n",
    "- Dealing with outliers.\n",
    "\n",
    "-------------------\n",
    "\n"
   ]
  },
  {
   "cell_type": "markdown",
   "id": "21876b48-f5ec-4970-85a9-0520d45d8841",
   "metadata": {},
   "source": [
    "### Handling missing values:"
   ]
  },
  {
   "cell_type": "code",
   "execution_count": 1370,
   "id": "6b58f294-bae6-43a8-8b28-f6b98e253c4c",
   "metadata": {},
   "outputs": [],
   "source": [
    "df_2015.drop(columns=['Region'],axis=1,inplace=True)\n",
    "df_2016.drop(columns=['Lower Confidence Interval','Upper Confidence Interval','Region'],axis=1,inplace=True)\n",
    "df_2017.drop(['Whisker high','Whisker low'],axis=1,inplace=True)\n",
    "df_2018.drop(['Perceptions of corruption'],axis=1,inplace=True)\n",
    "df_2019.drop(['Perceptions of corruption'],axis=1,inplace=True)"
   ]
  },
  {
   "cell_type": "code",
   "execution_count": 1371,
   "id": "f969dc6e-ebca-44ad-b97f-6342f318993b",
   "metadata": {},
   "outputs": [],
   "source": [
    "merged_df = pd.merge(df_2015,df_2016,how='outer')\n",
    "merged_df = pd.merge(merged_df,df_2017, how='outer')\n",
    "merged_df = pd.merge(merged_df,df_2018, how='outer')\n",
    "merged_df = pd.merge(merged_df,df_2019, how='outer')"
   ]
  },
  {
   "cell_type": "code",
   "execution_count": 1372,
   "id": "57e741fb-71c1-46ad-a526-d8f0b1564dc3",
   "metadata": {},
   "outputs": [
    {
     "data": {
      "text/plain": [
       "Country                           object\n",
       "Happiness Rank                     int64\n",
       "Happiness Score                  float64\n",
       "Standard Error                   float64\n",
       "Economy (GDP per Capita)         float64\n",
       "Family                           float64\n",
       "Health (Life Expectancy)         float64\n",
       "Freedom                          float64\n",
       "Trust (Government Corruption)    float64\n",
       "Generosity                       float64\n",
       "Dystopia Residual                float64\n",
       "Year_2015                         object\n",
       "Year_2016                         object\n",
       "Year_2017                         object\n",
       "Social support                   float64\n",
       "Year_2018                         object\n",
       "Year_2019                         object\n",
       "dtype: object"
      ]
     },
     "execution_count": 1372,
     "metadata": {},
     "output_type": "execute_result"
    }
   ],
   "source": [
    "merged_df.dtypes"
   ]
  },
  {
   "cell_type": "code",
   "execution_count": 1373,
   "id": "9ec2fa13-410c-4c46-8966-a74e53dbd1c1",
   "metadata": {},
   "outputs": [],
   "source": [
    "# combine the year columns into a new 'year' column\n",
    "merged_df['Year'] = merged_df[['Year_2015', 'Year_2016', 'Year_2017', 'Year_2018', 'Year_2019']].bfill(axis=1).iloc[:, 0]"
   ]
  },
  {
   "cell_type": "code",
   "execution_count": 1374,
   "id": "4d09c5c6-b028-4faf-8d3a-35e9b6727a56",
   "metadata": {},
   "outputs": [
    {
     "data": {
      "text/html": [
       "<div>\n",
       "<style scoped>\n",
       "    .dataframe tbody tr th:only-of-type {\n",
       "        vertical-align: middle;\n",
       "    }\n",
       "\n",
       "    .dataframe tbody tr th {\n",
       "        vertical-align: top;\n",
       "    }\n",
       "\n",
       "    .dataframe thead th {\n",
       "        text-align: right;\n",
       "    }\n",
       "</style>\n",
       "<table border=\"1\" class=\"dataframe\">\n",
       "  <thead>\n",
       "    <tr style=\"text-align: right;\">\n",
       "      <th></th>\n",
       "      <th>Country</th>\n",
       "      <th>Happiness Rank</th>\n",
       "      <th>Happiness Score</th>\n",
       "      <th>Standard Error</th>\n",
       "      <th>Economy (GDP per Capita)</th>\n",
       "      <th>Family</th>\n",
       "      <th>Health (Life Expectancy)</th>\n",
       "      <th>Freedom</th>\n",
       "      <th>Trust (Government Corruption)</th>\n",
       "      <th>Generosity</th>\n",
       "      <th>Dystopia Residual</th>\n",
       "      <th>Year_2015</th>\n",
       "      <th>Year_2016</th>\n",
       "      <th>Year_2017</th>\n",
       "      <th>Social support</th>\n",
       "      <th>Year_2018</th>\n",
       "      <th>Year_2019</th>\n",
       "      <th>Year</th>\n",
       "    </tr>\n",
       "  </thead>\n",
       "  <tbody>\n",
       "    <tr>\n",
       "      <th>0</th>\n",
       "      <td>Afghanistan</td>\n",
       "      <td>141</td>\n",
       "      <td>3.794</td>\n",
       "      <td>NaN</td>\n",
       "      <td>0.401477</td>\n",
       "      <td>0.581543</td>\n",
       "      <td>0.180747</td>\n",
       "      <td>0.10618</td>\n",
       "      <td>0.061158</td>\n",
       "      <td>0.311871</td>\n",
       "      <td>2.150801</td>\n",
       "      <td>NaN</td>\n",
       "      <td>NaN</td>\n",
       "      <td>2017</td>\n",
       "      <td>NaN</td>\n",
       "      <td>NaN</td>\n",
       "      <td>NaN</td>\n",
       "      <td>2017</td>\n",
       "    </tr>\n",
       "    <tr>\n",
       "      <th>1</th>\n",
       "      <td>Afghanistan</td>\n",
       "      <td>145</td>\n",
       "      <td>3.632</td>\n",
       "      <td>NaN</td>\n",
       "      <td>0.332000</td>\n",
       "      <td>NaN</td>\n",
       "      <td>0.255000</td>\n",
       "      <td>0.08500</td>\n",
       "      <td>NaN</td>\n",
       "      <td>0.191000</td>\n",
       "      <td>NaN</td>\n",
       "      <td>NaN</td>\n",
       "      <td>NaN</td>\n",
       "      <td>NaN</td>\n",
       "      <td>0.537</td>\n",
       "      <td>2018</td>\n",
       "      <td>NaN</td>\n",
       "      <td>2018</td>\n",
       "    </tr>\n",
       "    <tr>\n",
       "      <th>2</th>\n",
       "      <td>Afghanistan</td>\n",
       "      <td>153</td>\n",
       "      <td>3.575</td>\n",
       "      <td>0.03084</td>\n",
       "      <td>0.319820</td>\n",
       "      <td>0.302850</td>\n",
       "      <td>0.303350</td>\n",
       "      <td>0.23414</td>\n",
       "      <td>0.097190</td>\n",
       "      <td>0.365100</td>\n",
       "      <td>1.952100</td>\n",
       "      <td>2015</td>\n",
       "      <td>NaN</td>\n",
       "      <td>NaN</td>\n",
       "      <td>NaN</td>\n",
       "      <td>NaN</td>\n",
       "      <td>NaN</td>\n",
       "      <td>2015</td>\n",
       "    </tr>\n",
       "    <tr>\n",
       "      <th>3</th>\n",
       "      <td>Afghanistan</td>\n",
       "      <td>154</td>\n",
       "      <td>3.203</td>\n",
       "      <td>NaN</td>\n",
       "      <td>0.350000</td>\n",
       "      <td>NaN</td>\n",
       "      <td>0.361000</td>\n",
       "      <td>0.00000</td>\n",
       "      <td>NaN</td>\n",
       "      <td>0.158000</td>\n",
       "      <td>NaN</td>\n",
       "      <td>NaN</td>\n",
       "      <td>NaN</td>\n",
       "      <td>NaN</td>\n",
       "      <td>0.517</td>\n",
       "      <td>NaN</td>\n",
       "      <td>2019</td>\n",
       "      <td>2019</td>\n",
       "    </tr>\n",
       "    <tr>\n",
       "      <th>4</th>\n",
       "      <td>Afghanistan</td>\n",
       "      <td>154</td>\n",
       "      <td>3.360</td>\n",
       "      <td>NaN</td>\n",
       "      <td>0.382270</td>\n",
       "      <td>0.110370</td>\n",
       "      <td>0.173440</td>\n",
       "      <td>0.16430</td>\n",
       "      <td>0.071120</td>\n",
       "      <td>0.312680</td>\n",
       "      <td>2.145580</td>\n",
       "      <td>NaN</td>\n",
       "      <td>2016</td>\n",
       "      <td>NaN</td>\n",
       "      <td>NaN</td>\n",
       "      <td>NaN</td>\n",
       "      <td>NaN</td>\n",
       "      <td>2016</td>\n",
       "    </tr>\n",
       "  </tbody>\n",
       "</table>\n",
       "</div>"
      ],
      "text/plain": [
       "       Country  Happiness Rank  Happiness Score  Standard Error  \\\n",
       "0  Afghanistan             141            3.794             NaN   \n",
       "1  Afghanistan             145            3.632             NaN   \n",
       "2  Afghanistan             153            3.575         0.03084   \n",
       "3  Afghanistan             154            3.203             NaN   \n",
       "4  Afghanistan             154            3.360             NaN   \n",
       "\n",
       "   Economy (GDP per Capita)    Family  Health (Life Expectancy)  Freedom  \\\n",
       "0                  0.401477  0.581543                  0.180747  0.10618   \n",
       "1                  0.332000       NaN                  0.255000  0.08500   \n",
       "2                  0.319820  0.302850                  0.303350  0.23414   \n",
       "3                  0.350000       NaN                  0.361000  0.00000   \n",
       "4                  0.382270  0.110370                  0.173440  0.16430   \n",
       "\n",
       "   Trust (Government Corruption)  Generosity  Dystopia Residual Year_2015  \\\n",
       "0                       0.061158    0.311871           2.150801       NaN   \n",
       "1                            NaN    0.191000                NaN       NaN   \n",
       "2                       0.097190    0.365100           1.952100      2015   \n",
       "3                            NaN    0.158000                NaN       NaN   \n",
       "4                       0.071120    0.312680           2.145580       NaN   \n",
       "\n",
       "  Year_2016 Year_2017  Social support Year_2018 Year_2019  Year  \n",
       "0       NaN      2017             NaN       NaN       NaN  2017  \n",
       "1       NaN       NaN           0.537      2018       NaN  2018  \n",
       "2       NaN       NaN             NaN       NaN       NaN  2015  \n",
       "3       NaN       NaN           0.517       NaN      2019  2019  \n",
       "4      2016       NaN             NaN       NaN       NaN  2016  "
      ]
     },
     "execution_count": 1374,
     "metadata": {},
     "output_type": "execute_result"
    }
   ],
   "source": [
    "merged_df.head()"
   ]
  },
  {
   "cell_type": "code",
   "execution_count": 1375,
   "id": "fab2f9f8-0927-4e61-bcaf-209e8f5c3fc6",
   "metadata": {},
   "outputs": [],
   "source": [
    "merged_df.drop(['Year_2015','Year_2016','Year_2017', 'Year_2018', 'Year_2019'],axis=1,inplace=True)"
   ]
  },
  {
   "cell_type": "code",
   "execution_count": 1376,
   "id": "c08f7dee-12d3-47ac-bb97-1fe3c9bb2035",
   "metadata": {},
   "outputs": [
    {
     "data": {
      "text/html": [
       "<div>\n",
       "<style scoped>\n",
       "    .dataframe tbody tr th:only-of-type {\n",
       "        vertical-align: middle;\n",
       "    }\n",
       "\n",
       "    .dataframe tbody tr th {\n",
       "        vertical-align: top;\n",
       "    }\n",
       "\n",
       "    .dataframe thead th {\n",
       "        text-align: right;\n",
       "    }\n",
       "</style>\n",
       "<table border=\"1\" class=\"dataframe\">\n",
       "  <thead>\n",
       "    <tr style=\"text-align: right;\">\n",
       "      <th></th>\n",
       "      <th>Country</th>\n",
       "      <th>Happiness Rank</th>\n",
       "      <th>Happiness Score</th>\n",
       "      <th>Standard Error</th>\n",
       "      <th>Economy (GDP per Capita)</th>\n",
       "      <th>Family</th>\n",
       "      <th>Health (Life Expectancy)</th>\n",
       "      <th>Freedom</th>\n",
       "      <th>Trust (Government Corruption)</th>\n",
       "      <th>Generosity</th>\n",
       "      <th>Dystopia Residual</th>\n",
       "      <th>Social support</th>\n",
       "      <th>Year</th>\n",
       "    </tr>\n",
       "  </thead>\n",
       "  <tbody>\n",
       "    <tr>\n",
       "      <th>0</th>\n",
       "      <td>Afghanistan</td>\n",
       "      <td>141</td>\n",
       "      <td>3.794</td>\n",
       "      <td>NaN</td>\n",
       "      <td>0.401477</td>\n",
       "      <td>0.581543</td>\n",
       "      <td>0.180747</td>\n",
       "      <td>0.10618</td>\n",
       "      <td>0.061158</td>\n",
       "      <td>0.311871</td>\n",
       "      <td>2.150801</td>\n",
       "      <td>NaN</td>\n",
       "      <td>2017</td>\n",
       "    </tr>\n",
       "    <tr>\n",
       "      <th>1</th>\n",
       "      <td>Afghanistan</td>\n",
       "      <td>145</td>\n",
       "      <td>3.632</td>\n",
       "      <td>NaN</td>\n",
       "      <td>0.332000</td>\n",
       "      <td>NaN</td>\n",
       "      <td>0.255000</td>\n",
       "      <td>0.08500</td>\n",
       "      <td>NaN</td>\n",
       "      <td>0.191000</td>\n",
       "      <td>NaN</td>\n",
       "      <td>0.537</td>\n",
       "      <td>2018</td>\n",
       "    </tr>\n",
       "    <tr>\n",
       "      <th>2</th>\n",
       "      <td>Afghanistan</td>\n",
       "      <td>153</td>\n",
       "      <td>3.575</td>\n",
       "      <td>0.03084</td>\n",
       "      <td>0.319820</td>\n",
       "      <td>0.302850</td>\n",
       "      <td>0.303350</td>\n",
       "      <td>0.23414</td>\n",
       "      <td>0.097190</td>\n",
       "      <td>0.365100</td>\n",
       "      <td>1.952100</td>\n",
       "      <td>NaN</td>\n",
       "      <td>2015</td>\n",
       "    </tr>\n",
       "    <tr>\n",
       "      <th>3</th>\n",
       "      <td>Afghanistan</td>\n",
       "      <td>154</td>\n",
       "      <td>3.203</td>\n",
       "      <td>NaN</td>\n",
       "      <td>0.350000</td>\n",
       "      <td>NaN</td>\n",
       "      <td>0.361000</td>\n",
       "      <td>0.00000</td>\n",
       "      <td>NaN</td>\n",
       "      <td>0.158000</td>\n",
       "      <td>NaN</td>\n",
       "      <td>0.517</td>\n",
       "      <td>2019</td>\n",
       "    </tr>\n",
       "    <tr>\n",
       "      <th>4</th>\n",
       "      <td>Afghanistan</td>\n",
       "      <td>154</td>\n",
       "      <td>3.360</td>\n",
       "      <td>NaN</td>\n",
       "      <td>0.382270</td>\n",
       "      <td>0.110370</td>\n",
       "      <td>0.173440</td>\n",
       "      <td>0.16430</td>\n",
       "      <td>0.071120</td>\n",
       "      <td>0.312680</td>\n",
       "      <td>2.145580</td>\n",
       "      <td>NaN</td>\n",
       "      <td>2016</td>\n",
       "    </tr>\n",
       "  </tbody>\n",
       "</table>\n",
       "</div>"
      ],
      "text/plain": [
       "       Country  Happiness Rank  Happiness Score  Standard Error  \\\n",
       "0  Afghanistan             141            3.794             NaN   \n",
       "1  Afghanistan             145            3.632             NaN   \n",
       "2  Afghanistan             153            3.575         0.03084   \n",
       "3  Afghanistan             154            3.203             NaN   \n",
       "4  Afghanistan             154            3.360             NaN   \n",
       "\n",
       "   Economy (GDP per Capita)    Family  Health (Life Expectancy)  Freedom  \\\n",
       "0                  0.401477  0.581543                  0.180747  0.10618   \n",
       "1                  0.332000       NaN                  0.255000  0.08500   \n",
       "2                  0.319820  0.302850                  0.303350  0.23414   \n",
       "3                  0.350000       NaN                  0.361000  0.00000   \n",
       "4                  0.382270  0.110370                  0.173440  0.16430   \n",
       "\n",
       "   Trust (Government Corruption)  Generosity  Dystopia Residual  \\\n",
       "0                       0.061158    0.311871           2.150801   \n",
       "1                            NaN    0.191000                NaN   \n",
       "2                       0.097190    0.365100           1.952100   \n",
       "3                            NaN    0.158000                NaN   \n",
       "4                       0.071120    0.312680           2.145580   \n",
       "\n",
       "   Social support  Year  \n",
       "0             NaN  2017  \n",
       "1           0.537  2018  \n",
       "2             NaN  2015  \n",
       "3           0.517  2019  \n",
       "4             NaN  2016  "
      ]
     },
     "execution_count": 1376,
     "metadata": {},
     "output_type": "execute_result"
    }
   ],
   "source": [
    "merged_df.head()"
   ]
  },
  {
   "cell_type": "code",
   "execution_count": 1377,
   "id": "0fbb6126-9d0d-4821-b98c-e64c53587b2d",
   "metadata": {},
   "outputs": [
    {
     "name": "stdout",
     "output_type": "stream",
     "text": [
      "Missing Values Summary:\n",
      "\n"
     ]
    },
    {
     "data": {
      "text/plain": [
       "Standard Error                   624\n",
       "Social support                   470\n",
       "Family                           312\n",
       "Trust (Government Corruption)    312\n",
       "Dystopia Residual                312\n",
       "Country                            0\n",
       "Happiness Rank                     0\n",
       "Happiness Score                    0\n",
       "Economy (GDP per Capita)           0\n",
       "Health (Life Expectancy)           0\n",
       "Freedom                            0\n",
       "Generosity                         0\n",
       "Year                               0\n",
       "dtype: int64"
      ]
     },
     "execution_count": 1377,
     "metadata": {},
     "output_type": "execute_result"
    }
   ],
   "source": [
    "print(\"Missing Values Summary:\\n\")\n",
    "merged_df.isnull().sum().sort_values(ascending=False)"
   ]
  },
  {
   "cell_type": "code",
   "execution_count": 1378,
   "id": "a2c7ed6f-59e7-4d5b-8469-e827561144da",
   "metadata": {},
   "outputs": [],
   "source": [
    "merged_df['Standard Error'].fillna(0,inplace=True)"
   ]
  },
  {
   "cell_type": "code",
   "execution_count": 1379,
   "id": "d1fe0519-f4af-43e5-86a8-b771c39932be",
   "metadata": {},
   "outputs": [],
   "source": [
    "merged_df['Social support'].fillna(0,inplace=True)"
   ]
  },
  {
   "cell_type": "code",
   "execution_count": 1380,
   "id": "f13ce2a0-de66-4f85-a649-9558f783db9f",
   "metadata": {},
   "outputs": [],
   "source": [
    "merged_df['Family'].fillna(0,inplace=True)"
   ]
  },
  {
   "cell_type": "code",
   "execution_count": 1381,
   "id": "502a8a09-cfd2-444d-be69-7722ce7ec0e2",
   "metadata": {},
   "outputs": [],
   "source": [
    "merged_df['Trust (Government Corruption)'].fillna(0,inplace=True)"
   ]
  },
  {
   "cell_type": "code",
   "execution_count": 1382,
   "id": "b983b66f-98fd-4103-802e-f5a46e654a6e",
   "metadata": {},
   "outputs": [],
   "source": [
    "merged_df['Dystopia Residual'].fillna(0,inplace=True)"
   ]
  },
  {
   "cell_type": "code",
   "execution_count": 1383,
   "id": "65c8b5e9-f7be-4825-9c9a-4314571c62e5",
   "metadata": {},
   "outputs": [
    {
     "name": "stdout",
     "output_type": "stream",
     "text": [
      "Missing Values Summary:\n",
      "\n"
     ]
    },
    {
     "data": {
      "text/plain": [
       "Country                          0\n",
       "Happiness Rank                   0\n",
       "Happiness Score                  0\n",
       "Standard Error                   0\n",
       "Economy (GDP per Capita)         0\n",
       "Family                           0\n",
       "Health (Life Expectancy)         0\n",
       "Freedom                          0\n",
       "Trust (Government Corruption)    0\n",
       "Generosity                       0\n",
       "Dystopia Residual                0\n",
       "Social support                   0\n",
       "Year                             0\n",
       "dtype: int64"
      ]
     },
     "execution_count": 1383,
     "metadata": {},
     "output_type": "execute_result"
    }
   ],
   "source": [
    "print(\"Missing Values Summary:\\n\")\n",
    "merged_df.isnull().sum().sort_values(ascending=False)"
   ]
  },
  {
   "cell_type": "code",
   "execution_count": 1384,
   "id": "01287962-8077-4c01-8d1d-5f8aed6cb37a",
   "metadata": {},
   "outputs": [],
   "source": [
    "# go back to 6th dimention --> Completeness"
   ]
  },
  {
   "cell_type": "markdown",
   "id": "f7cee10f-0af8-44e5-b595-8e965294daad",
   "metadata": {},
   "source": [
    "### Correcting errors\n",
    "\n",
    "-------------------"
   ]
  },
  {
   "cell_type": "code",
   "execution_count": 1386,
   "id": "f1d95da5-a3ba-473a-8243-aa177cadae20",
   "metadata": {},
   "outputs": [],
   "source": [
    "# go back to 7th dimension Accuracy "
   ]
  },
  {
   "cell_type": "markdown",
   "id": "2a3ae5a5-1977-4ecf-bf9c-0452cc4aca6b",
   "metadata": {},
   "source": [
    "### check outliers"
   ]
  },
  {
   "cell_type": "code",
   "execution_count": 1388,
   "id": "183dab1c-4379-4a5f-8bb0-2539327a6537",
   "metadata": {},
   "outputs": [],
   "source": [
    "# check outliers \n",
    "# Select only the numerical columns in merged_df using select_dtypes\n",
    "numerical_cols = merged_df.select_dtypes(include=['number']).columns\n",
    "\n",
    "# Calculate Z-scores for each numerical column in merged_df\n",
    "z_scores = zscore(merged_df[numerical_cols])\n",
    "\n",
    "# Create a boolean dataframe where True indicates an outlier\n",
    "outliers = (abs(z_scores) > 3)\n",
    "\n",
    "# Add a column to merged_df indicating if the row contains an outlier\n",
    "merged_df_outliers = merged_df.copy()\n",
    "merged_df_outliers['Outlier'] = outliers.any(axis=1)\n",
    "\n",
    "# Save rows that contain outliers\n",
    "outlier_rows = merged_df_outliers[merged_df_outliers['Outlier']]"
   ]
  },
  {
   "cell_type": "markdown",
   "id": "98548b66-e309-4eb8-a5dc-65fe0abbf1e8",
   "metadata": {},
   "source": [
    "## 3. Univariate Analysis: \n",
    "\n",
    "This involves examining single variables to understand their characteristics (distribution, central tendency, dispersion, and shape).\n",
    "\n",
    "We calculate **numerical values** about the data that tells us about the distribution of the data. We also **draw graphs** showing visually how the data is distributed. **To answer the following questions about Features/characteristics of Data:**\n",
    "- Where is the center of the data? (location)\n",
    "- How much does the data vary? (scale)\n",
    "- What is the shape of the data? (shape)\n",
    "\n",
    "**The benefits of this analysis:**\n",
    "Statistics summary gives a high-level idea to identify whether the data has any outliers, data entry error, distribution of data such as the data is normally distributed or left/right skewed\n",
    "\n",
    "**In this step, we will explore variables one by one using following approaches:**"
   ]
  },
  {
   "cell_type": "markdown",
   "id": "d6718111-7ac2-4fff-9851-654655b62e0b",
   "metadata": {},
   "source": [
    "### 1. Univariate Graphical Analysis:\n",
    "Method to perform uni-variate analysis will depend on whether the variable type is categorical or numerical."
   ]
  },
  {
   "cell_type": "code",
   "execution_count": 1391,
   "id": "5be16f08-a072-4a02-a3ee-6f9d57786fb4",
   "metadata": {},
   "outputs": [
    {
     "data": {
      "image/png": "[encoded data removed]",
      "text/plain": [
       "<Figure size 500x400 with 1 Axes>"
      ]
     },
     "metadata": {},
     "output_type": "display_data"
    },
    {
     "data": {
      "image/png": "[encoded data removed]",
      "text/plain": [
       "<Figure size 500x400 with 1 Axes>"
      ]
     },
     "metadata": {},
     "output_type": "display_data"
    },
    {
     "data": {
      "image/png": "[encoded data removed]",
      "text/plain": [
       "<Figure size 500x400 with 1 Axes>"
      ]
     },
     "metadata": {},
     "output_type": "display_data"
    },
    {
     "data": {
      "image/png": "[encoded data removed]",
      "text/plain": [
       "<Figure size 500x400 with 1 Axes>"
      ]
     },
     "metadata": {},
     "output_type": "display_data"
    },
    {
     "data": {
      "image/png": "[encoded data removed]",
      "text/plain": [
       "<Figure size 500x400 with 1 Axes>"
      ]
     },
     "metadata": {},
     "output_type": "display_data"
    },
    {
     "data": {
      "image/png": "[encoded data removed]",
      "text/plain": [
       "<Figure size 500x400 with 1 Axes>"
      ]
     },
     "metadata": {},
     "output_type": "display_data"
    },
    {
     "data": {
      "image/png": "[encoded data removed]",
      "text/plain": [
       "<Figure size 500x400 with 1 Axes>"
      ]
     },
     "metadata": {},
     "output_type": "display_data"
    },
    {
     "data": {
      "image/png": "[encoded data removed]",
      "text/plain": [
       "<Figure size 500x400 with 1 Axes>"
      ]
     },
     "metadata": {},
     "output_type": "display_data"
    },
    {
     "data": {
      "image/png": "[encoded data removed]",
      "text/plain": [
       "<Figure size 500x400 with 1 Axes>"
      ]
     },
     "metadata": {},
     "output_type": "display_data"
    },
    {
     "data": {
      "image/png": "[encoded data removed]",
      "text/plain": [
       "<Figure size 500x400 with 1 Axes>"
      ]
     },
     "metadata": {},
     "output_type": "display_data"
    },
    {
     "data": {
      "image/png": "[encoded data removed]",
      "text/plain": [
       "<Figure size 500x400 with 1 Axes>"
      ]
     },
     "metadata": {},
     "output_type": "display_data"
    }
   ],
   "source": [
    "# show outliers for visiualization\n",
    "\n",
    "# Create a boxplot for each numerical column\n",
    "for col in numerical_cols:\n",
    "    plt.figure(figsize=(5, 4))\n",
    "    sns.boxplot(x=merged_df[col])\n",
    "    plt.title(f'Boxplot for {col}')\n",
    "    plt.xlabel('Value') \n",
    "    plt.ylabel(col)      # Set y-axis label to the column name\n",
    "    plt.show()"
   ]
  },
  {
   "cell_type": "markdown",
   "id": "f09bb809-0edd-432b-bf23-abd0840b3e16",
   "metadata": {},
   "source": [
    "## 4. Bivariate/Multivariate Analysis:\n",
    "\n",
    "Here, you look at the relationships between two or more variables. This can involve looking for correlations, patterns, and trends that suggest a relationship or an association.\n",
    "\n",
    "We can perform bi-variate analysis for any combination of categorical and numerical variables. The combination can be:\n",
    "| bi-variate variables   | Plot type |\n",
    "| ------------- | ------------- |\n",
    "| Categorical & Categorical| Stacked Bar Chart |\n",
    "| Categorical & numerical  | scatter plot, histogram, box plot|\n",
    "| numerical  & numerical  | Scatter plot, line chart| \n",
    "\n",
    "\n",
    "Multivariate Analysis:\n",
    "- Heat map\n",
    "- Bar Chart\n",
    "- Scatter Chart\n",
    "- Line Chart"
   ]
  },
  {
   "cell_type": "markdown",
   "id": "730e088f-fe13-40da-8fbb-686f5135fa4d",
   "metadata": {},
   "source": [
    "**Categorical & numerical --> (scatter plot, histogram, box plot)**"
   ]
  },
  {
   "cell_type": "code",
   "execution_count": 1394,
   "id": "3590e345-2051-4215-91ac-07d196b510ef",
   "metadata": {},
   "outputs": [
    {
     "data": {
      "image/png": "[encoded data removed]",
      "text/plain": [
       "<Figure size 1000x600 with 1 Axes>"
      ]
     },
     "metadata": {},
     "output_type": "display_data"
    }
   ],
   "source": [
    "# Create a boxplot chart to show the relationship between Year and Happiness score\n",
    "plt.figure(figsize=(10, 6))\n",
    "sns.boxplot(x='Year', y='Happiness Score', data=merged_df,  palette='viridis')\n",
    "plt.title('Box Plot: Happiness Score by Year')\n",
    "plt.xlabel('Year')\n",
    "plt.ylabel('Happiness Score')\n",
    "plt.show()"
   ]
  },
  {
   "cell_type": "markdown",
   "id": "20aed48d-b78e-46da-963f-e7f15e2f4dc7",
   "metadata": {},
   "source": [
    "**numerical & numerical --> (Scatter plot)**"
   ]
  },
  {
   "cell_type": "markdown",
   "id": "efb43b30-b1f0-48a4-a19c-195810cc8a0f",
   "metadata": {},
   "source": [
    "We could also use a correlation matrix to get more specific information about the relationship between these two variables."
   ]
  },
  {
   "cell_type": "code",
   "execution_count": 1397,
   "id": "8406f58f-b825-4a15-8f6e-c68ca66bd483",
   "metadata": {},
   "outputs": [
    {
     "data": {
      "image/png": "[encoded data removed]",
      "text/plain": [
       "<Figure size 1000x600 with 1 Axes>"
      ]
     },
     "metadata": {},
     "output_type": "display_data"
    }
   ],
   "source": [
    "# visualize the relationship between Happiness Score and Economy (GDP per Capita) using scatter chart\n",
    "plt.figure(figsize=(10, 6))\n",
    "plt.scatter(merged_df['Economy (GDP per Capita)'], merged_df['Happiness Score'], alpha=0.7)\n",
    "plt.title('Scatter Plot: Happiness Score vs Economy (GDP per Capita)')\n",
    "plt.xlabel('Economy (GDP per Capita)')\n",
    "plt.ylabel('Happiness Score')\n",
    "plt.show()"
   ]
  },
  {
   "cell_type": "markdown",
   "id": "995dfd0b-a78d-4511-954e-6c04ded2d95c",
   "metadata": {},
   "source": [
    "### Dealing with outliers:"
   ]
  },
  {
   "cell_type": "code",
   "execution_count": 1399,
   "id": "af767d57-703a-4ff8-b53a-ed9187499f44",
   "metadata": {},
   "outputs": [
    {
     "name": "stdout",
     "output_type": "stream",
     "text": [
      "percentage of ouliers in our clean dataset is: 5 %\n"
     ]
    }
   ],
   "source": [
    "print(\"percentage of ouliers in our clean dataset is:\", round((len(outlier_rows)/len(merged_df))*100), \"%\")"
   ]
  },
  {
   "cell_type": "markdown",
   "id": "33a6df90-3b01-4890-b2f3-ea917e9318eb",
   "metadata": {},
   "source": [
    "##### then removing the outliers is the best choice"
   ]
  },
  {
   "cell_type": "code",
   "execution_count": 1401,
   "id": "46290d4c-99f5-4b44-8352-2a815ed7f50e",
   "metadata": {},
   "outputs": [],
   "source": [
    "# Remove outliers from merged_df\n",
    "cleaned_df = merged_df[~merged_df_outliers['Outlier']]\n",
    "cleaned_df['Year'] = cleaned_df['Year'].astype(int)"
   ]
  },
  {
   "cell_type": "markdown",
   "id": "07042e28-40b7-48c5-928e-bc8466aa68d1",
   "metadata": {},
   "source": [
    "# Answers"
   ]
  },
  {
   "cell_type": "markdown",
   "id": "db526e37-b7d2-400f-9493-0de800e2502a",
   "metadata": {},
   "source": [
    "### What countries or regions rank the highest in overall happiness and each of the six factors contributing to happiness?"
   ]
  },
  {
   "cell_type": "code",
   "execution_count": 1404,
   "id": "7ec8fc15-ae2d-4cd6-a13f-6031b5f0a2c9",
   "metadata": {},
   "outputs": [
    {
     "data": {
      "text/html": [
       "<style type=\"text/css\">\n",
       "</style>\n",
       "<table id=\"T_e8cb7\">\n",
       "  <thead>\n",
       "    <tr>\n",
       "      <th id=\"T_e8cb7_level0_col0\" class=\"col_heading level0 col0\" >Country</th>\n",
       "      <th id=\"T_e8cb7_level0_col1\" class=\"col_heading level0 col1\" >Happiness Score</th>\n",
       "      <th id=\"T_e8cb7_level0_col2\" class=\"col_heading level0 col2\" >Year</th>\n",
       "    </tr>\n",
       "  </thead>\n",
       "  <tbody>\n",
       "    <tr>\n",
       "      <td id=\"T_e8cb7_row0_col0\" class=\"data row0 col0\" >Iceland</td>\n",
       "      <td id=\"T_e8cb7_row0_col1\" class=\"data row0 col1\" >7.561000</td>\n",
       "      <td id=\"T_e8cb7_row0_col2\" class=\"data row0 col2\" >2015</td>\n",
       "    </tr>\n",
       "    <tr>\n",
       "      <td id=\"T_e8cb7_row1_col0\" class=\"data row1 col0\" >Iceland</td>\n",
       "      <td id=\"T_e8cb7_row1_col1\" class=\"data row1 col1\" >7.501000</td>\n",
       "      <td id=\"T_e8cb7_row1_col2\" class=\"data row1 col2\" >2016</td>\n",
       "    </tr>\n",
       "    <tr>\n",
       "      <td id=\"T_e8cb7_row2_col0\" class=\"data row2 col0\" >Norway</td>\n",
       "      <td id=\"T_e8cb7_row2_col1\" class=\"data row2 col1\" >7.537000</td>\n",
       "      <td id=\"T_e8cb7_row2_col2\" class=\"data row2 col2\" >2017</td>\n",
       "    </tr>\n",
       "    <tr>\n",
       "      <td id=\"T_e8cb7_row3_col0\" class=\"data row3 col0\" >Finland</td>\n",
       "      <td id=\"T_e8cb7_row3_col1\" class=\"data row3 col1\" >7.632000</td>\n",
       "      <td id=\"T_e8cb7_row3_col2\" class=\"data row3 col2\" >2018</td>\n",
       "    </tr>\n",
       "    <tr>\n",
       "      <td id=\"T_e8cb7_row4_col0\" class=\"data row4 col0\" >Finland</td>\n",
       "      <td id=\"T_e8cb7_row4_col1\" class=\"data row4 col1\" >7.769000</td>\n",
       "      <td id=\"T_e8cb7_row4_col2\" class=\"data row4 col2\" >2019</td>\n",
       "    </tr>\n",
       "  </tbody>\n",
       "</table>\n"
      ],
      "text/plain": [
       "<pandas.io.formats.style.Styler at 0x210ade09fa0>"
      ]
     },
     "execution_count": 1404,
     "metadata": {},
     "output_type": "execute_result"
    }
   ],
   "source": [
    "# Find the countries with the highest overall happiness for each year\n",
    "highest_happiness_by_year = cleaned_df.loc[cleaned_df.groupby('Year')['Happiness Score'].idxmax()]\n",
    "highest_happiness_by_year[['Country', 'Happiness Score', 'Year']].style.hide(axis='index')\n"
   ]
  },
  {
   "cell_type": "code",
   "execution_count": 1405,
   "id": "d430de51-c14e-4d65-8e63-5e1367199a36",
   "metadata": {},
   "outputs": [
    {
     "data": {
      "image/png": "[encoded data removed]",
      "text/plain": [
       "<Figure size 1500x1000 with 6 Axes>"
      ]
     },
     "metadata": {},
     "output_type": "display_data"
    }
   ],
   "source": [
    "# Define the factors and their corresponding titles\n",
    "factors = {\n",
    "    'Economy (GDP per Capita)': 'Economy (GDP per Capita)',\n",
    "    'Family': 'Family',\n",
    "    'Health (Life Expectancy)': 'Health',\n",
    "    'Freedom': 'Freedom',\n",
    "    'Trust (Government Corruption)': 'Trust',\n",
    "    'Generosity': 'Generosity'\n",
    "}\n",
    "\n",
    "# Create a new figure with subplots\n",
    "plt.figure(figsize=(15, 10))\n",
    "\n",
    "# Loop through each factor to create a horizontal bar chart\n",
    "for i, (factor, title) in enumerate(factors.items()):\n",
    "    # Get the top 10 countries for the current factor\n",
    "    top_countries = cleaned_df.nlargest(10, factor)[['Country', factor]]\n",
    "\n",
    "    # Create a subplot for each factor\n",
    "    plt.subplot(2, 3, i + 1)\n",
    "    sns.barplot(data=top_countries, y='Country', x=factor, palette='viridis')\n",
    "    plt.title(f'Top 10 Countries by {title}')\n",
    "    plt.xlabel(title)\n",
    "    plt.ylabel('Country')\n",
    "\n",
    "# Adjust layout for better spacing\n",
    "plt.tight_layout()\n",
    "plt.show()"
   ]
  },
  {
   "cell_type": "markdown",
   "id": "63685219-eec9-4ef3-8b83-d1fec10bc4da",
   "metadata": {},
   "source": [
    "### How did country ranks or scores change between the 2015 and 2016 as well as the 2016 and 2017 reports?"
   ]
  },
  {
   "cell_type": "code",
   "execution_count": 1407,
   "id": "bbb1b7b6-bad7-4f86-8950-7fc31c365579",
   "metadata": {},
   "outputs": [],
   "source": [
    "# Select relevant columns and filter for the years of interest\n",
    "relevant_cols = ['Country', 'Year', 'Happiness Rank', 'Happiness Score']\n",
    "filtered_df = cleaned_df[relevant_cols]\n",
    "\n",
    "# Pivot the dataframe to have years as columns\n",
    "pivot_df = filtered_df.pivot(index='Country', columns='Year', values=['Happiness Rank', 'Happiness Score'])\n",
    "\n",
    "# Flatten the MultiIndex columns for easier access\n",
    "pivot_df.columns = [f\"{metric}_{year}\" for metric, year in pivot_df.columns]\n",
    "\n",
    "# Calculate the changes in rank and score\n",
    "pivot_df['Rank_Change_2015_2016'] = pivot_df['Happiness Rank_2015'] - pivot_df['Happiness Rank_2016']\n",
    "pivot_df['Score_Change_2015_2016'] = pivot_df['Happiness Score_2016'] - pivot_df['Happiness Score_2015']\n",
    "\n",
    "pivot_df['Rank_Change_2016_2017'] = pivot_df['Happiness Rank_2016'] - pivot_df['Happiness Rank_2017']\n",
    "pivot_df['Score_Change_2016_2017'] = pivot_df['Happiness Score_2017'] - pivot_df['Happiness Score_2016']\n",
    "\n",
    "# Select relevant summary columns\n",
    "summary = pivot_df[['Rank_Change_2015_2016', 'Score_Change_2015_2016', \n",
    "                    'Rank_Change_2016_2017', 'Score_Change_2016_2017']]\n",
    "\n",
    "summary.reset_index(inplace=True)"
   ]
  },
  {
   "cell_type": "code",
   "execution_count": 1408,
   "id": "7ab1632d-0498-4360-9c80-c9b40ea04d8c",
   "metadata": {},
   "outputs": [
    {
     "data": {
      "image/png": "[encoded data removed]",
      "text/plain": [
       "<Figure size 800x600 with 1 Axes>"
      ]
     },
     "metadata": {},
     "output_type": "display_data"
    }
   ],
   "source": [
    "plt.figure(figsize=(8, 6))\n",
    "\n",
    "# Plotting the changes in Happiness Scores over the years\n",
    "plt.plot(summary['Country'].head(10), summary['Score_Change_2015_2016'].head(10), marker='o', label='Score Change 2015-2016', color='blue')\n",
    "plt.plot(summary['Country'].head(10), summary['Score_Change_2016_2017'].head(10) , marker='o', label='Score Change 2016-2017', color='orange')\n",
    "\n",
    "# Customizing the plot\n",
    "plt.title('Changes in Happiness Scores (2015-2016 and 2016-2017) for 10 countries')\n",
    "plt.xlabel('Country')\n",
    "plt.ylabel('Score Change')\n",
    "plt.xticks(rotation=45, ha='right')\n",
    "plt.axhline(0, color='gray', linestyle='--', linewidth=0.7)  # Add a horizontal line at y=0 for reference\n",
    "plt.legend()\n",
    "# Adjust layout\n",
    "plt.tight_layout()  \n",
    "plt.show()"
   ]
  },
  {
   "cell_type": "markdown",
   "id": "360ab44c-e567-4a5d-9029-2fc08db80a54",
   "metadata": {},
   "source": [
    "### Did any country experience a significant increase or decrease in happiness?"
   ]
  },
  {
   "cell_type": "code",
   "execution_count": 1410,
   "id": "385851be-160d-4b56-aec3-6da12b216e7a",
   "metadata": {},
   "outputs": [],
   "source": [
    "# Group by country and year to get the mean happiness score\n",
    "grouped_df = cleaned_df.groupby(['Country', 'Year'])['Happiness Score'].mean().reset_index()\n",
    "\n",
    "# Calculate the change in happiness score between consecutive years\n",
    "grouped_df['Happiness Change'] = grouped_df.groupby('Country')['Happiness Score'].diff()\n",
    "\n",
    "# Define 40% threshold for significant changes \n",
    "threshold = 0.40\n",
    "significant_changes = grouped_df[(abs(grouped_df['Happiness Change']) > threshold)]"
   ]
  },
  {
   "cell_type": "code",
   "execution_count": 1411,
   "id": "b4d91cee-d211-42ff-8cc7-85cbb96ee7d2",
   "metadata": {},
   "outputs": [
    {
     "data": {
      "image/png": "[encoded data removed]",
      "text/plain": [
       "<Figure size 1200x600 with 1 Axes>"
      ]
     },
     "metadata": {},
     "output_type": "display_data"
    }
   ],
   "source": [
    "plt.figure(figsize=(12, 6))\n",
    "for country in significant_changes['Country'].unique():\n",
    "    country_data = significant_changes[significant_changes['Country'] == country]\n",
    "    plt.plot(country_data['Year'], country_data['Happiness Score'], marker='o', label=country)\n",
    "\n",
    "plt.title('Significant Changes in Happiness Scores by Country')\n",
    "plt.xlabel('Year')\n",
    "plt.ylabel('Happiness Score')\n",
    "plt.axhline(0, color='gray', linestyle='--', lw=0.7)  # Add a horizontal line at 0 for reference\n",
    "plt.legend(title='Countries', bbox_to_anchor=(1.05, 1), loc='upper left')\n",
    "plt.tight_layout()\n",
    "plt.show()"
   ]
  },
  {
   "cell_type": "markdown",
   "id": "4f78fa46-c15f-4e41-8059-2e2c68cd464b",
   "metadata": {},
   "source": [
    "### What is the Saudi Arabia position in all years of Happiness scors"
   ]
  },
  {
   "cell_type": "code",
   "execution_count": 1413,
   "id": "b7d68a8f-0c7b-407e-9765-5212460d3c19",
   "metadata": {},
   "outputs": [
    {
     "data": {
      "text/html": [
       "<style type=\"text/css\">\n",
       "</style>\n",
       "<table id=\"T_1ef84\">\n",
       "  <thead>\n",
       "    <tr>\n",
       "      <th id=\"T_1ef84_level0_col0\" class=\"col_heading level0 col0\" >Year</th>\n",
       "      <th id=\"T_1ef84_level0_col1\" class=\"col_heading level0 col1\" >Happiness Rank</th>\n",
       "      <th id=\"T_1ef84_level0_col2\" class=\"col_heading level0 col2\" >Happiness Score</th>\n",
       "    </tr>\n",
       "  </thead>\n",
       "  <tbody>\n",
       "    <tr>\n",
       "      <td id=\"T_1ef84_row0_col0\" class=\"data row0 col0\" >2015</td>\n",
       "      <td id=\"T_1ef84_row0_col1\" class=\"data row0 col1\" >35</td>\n",
       "      <td id=\"T_1ef84_row0_col2\" class=\"data row0 col2\" >6.411000</td>\n",
       "    </tr>\n",
       "    <tr>\n",
       "      <td id=\"T_1ef84_row1_col0\" class=\"data row1 col0\" >2016</td>\n",
       "      <td id=\"T_1ef84_row1_col1\" class=\"data row1 col1\" >34</td>\n",
       "      <td id=\"T_1ef84_row1_col2\" class=\"data row1 col2\" >6.379000</td>\n",
       "    </tr>\n",
       "    <tr>\n",
       "      <td id=\"T_1ef84_row2_col0\" class=\"data row2 col0\" >2017</td>\n",
       "      <td id=\"T_1ef84_row2_col1\" class=\"data row2 col1\" >37</td>\n",
       "      <td id=\"T_1ef84_row2_col2\" class=\"data row2 col2\" >6.344000</td>\n",
       "    </tr>\n",
       "    <tr>\n",
       "      <td id=\"T_1ef84_row3_col0\" class=\"data row3 col0\" >2018</td>\n",
       "      <td id=\"T_1ef84_row3_col1\" class=\"data row3 col1\" >33</td>\n",
       "      <td id=\"T_1ef84_row3_col2\" class=\"data row3 col2\" >6.371000</td>\n",
       "    </tr>\n",
       "    <tr>\n",
       "      <td id=\"T_1ef84_row4_col0\" class=\"data row4 col0\" >2019</td>\n",
       "      <td id=\"T_1ef84_row4_col1\" class=\"data row4 col1\" >28</td>\n",
       "      <td id=\"T_1ef84_row4_col2\" class=\"data row4 col2\" >6.375000</td>\n",
       "    </tr>\n",
       "  </tbody>\n",
       "</table>\n"
      ],
      "text/plain": [
       "<pandas.io.formats.style.Styler at 0x210a5fadca0>"
      ]
     },
     "execution_count": 1413,
     "metadata": {},
     "output_type": "execute_result"
    }
   ],
   "source": [
    "# Filter the dataframe for Saudi Arabia\n",
    "saudi_arabia_data = cleaned_df[cleaned_df['Country'] == 'Saudi Arabia']\n",
    "\n",
    "# Select relevant columns to display\n",
    "result = saudi_arabia_data[['Year', 'Happiness Rank', 'Happiness Score']].sort_values(by='Year')\n",
    "\n",
    "# show the result\n",
    "result.style.hide(axis='index')"
   ]
  }
 ],
 "metadata": {
  "kernelspec": {
   "display_name": "Python 3 (ipykernel)",
   "language": "python",
   "name": "python3"
  },
  "language_info": {
   "codemirror_mode": {
    "name": "ipython",
    "version": 3
   },
   "file_extension": ".py",
   "mimetype": "text/x-python",
   "name": "python",
   "nbconvert_exporter": "python",
   "pygments_lexer": "ipython3",
   "version": "3.12.4"
  }
 },
 "nbformat": 4,
 "nbformat_minor": 5
}
